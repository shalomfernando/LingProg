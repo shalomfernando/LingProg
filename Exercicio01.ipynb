{
 "cells": [
  {
   "cell_type": "markdown",
   "metadata": {},
   "source": [
    "### Shalom Fernando\n",
    "Ra: 91716247"
   ]
  },
  {
   "cell_type": "markdown",
   "metadata": {},
   "source": [
    "## Exercicio 1"
   ]
  },
  {
   "cell_type": "code",
   "execution_count": 1,
   "metadata": {},
   "outputs": [
    {
     "name": "stdout",
     "output_type": "stream",
     "text": [
      "Digite o raio: 10\n",
      "314.0\n"
     ]
    }
   ],
   "source": [
    "pi = 3.14;\n",
    "raio = input('Digite o raio: ');\n",
    "raio = int(raio);\n",
    "Area = pi*(raio*raio);\n",
    "print( Area);"
   ]
  },
  {
   "cell_type": "markdown",
   "metadata": {},
   "source": [
    "## Exercicio 2"
   ]
  },
  {
   "cell_type": "code",
   "execution_count": null,
   "metadata": {},
   "outputs": [],
   "source": [
    "lado = input('digite: ');\n",
    "lado = int(lado);\n",
    "area = lado ** 2;\n",
    "print(area*2);"
   ]
  },
  {
   "cell_type": "markdown",
   "metadata": {},
   "source": [
    "## Exercicio 3\n"
   ]
  },
  {
   "cell_type": "code",
   "execution_count": null,
   "metadata": {},
   "outputs": [],
   "source": [
    "Qtd_salario = input('Salario a hr: ');\n",
    "Qtd_salario = int(Qtd_salario);\n",
    "Qtd_hr = input ('Horas trabalhadas :');\n",
    "Qtd_hr = int(Qtd_hr);\n",
    "valor = Qtd_salario * Qtd_hr;\n",
    "print(valor);"
   ]
  },
  {
   "cell_type": "markdown",
   "metadata": {},
   "source": [
    "## Exercicio 4"
   ]
  },
  {
   "cell_type": "code",
   "execution_count": null,
   "metadata": {},
   "outputs": [],
   "source": [
    "f = input('Digitr a temperatura em graus Farenheit :');\n",
    "f = int(f);\n",
    "c = (5 * (f-32) / 9);\n",
    "print(c);"
   ]
  },
  {
   "cell_type": "markdown",
   "metadata": {},
   "source": [
    "## Exercicio 5"
   ]
  },
  {
   "cell_type": "code",
   "execution_count": null,
   "metadata": {},
   "outputs": [],
   "source": [
    "C =  input('Temperatura em grau celsius: ');\n",
    "C = int(C);\n",
    "F = (C * 9/5) + 32; \n",
    "print(F);"
   ]
  },
  {
   "cell_type": "markdown",
   "metadata": {},
   "source": [
    "## Exercicio 6"
   ]
  },
  {
   "cell_type": "code",
   "execution_count": null,
   "metadata": {},
   "outputs": [],
   "source": [
    "num = int(input('Valor inteiro: '));\n",
    "num2 = int(input('Valor inteiro: '));\n",
    "num3 = int(input('Valor real: '));\n",
    "\n",
    "a = (num ** 2) * (num2/2);\n",
    "b = (num ** 3) + num3;\n",
    "c = num3 ** 3;\n",
    "print('O produto do dobro do primeiro com metade do segundo: ', a  , '\\nA soma do triplo do primeiro com o terceiro: ',b,'\\nO terceiro elevado ao cubo: ',c);"
   ]
  },
  {
   "cell_type": "markdown",
   "metadata": {},
   "source": [
    "# Exercicio 7\n"
   ]
  },
  {
   "cell_type": "code",
   "execution_count": null,
   "metadata": {},
   "outputs": [],
   "source": [
    "peso = float(input('Peso: '));\n",
    "excesso = 0;\n",
    "multa = 0;\n",
    "if peso > 50:\n",
    "    peso = peso - 50;\n",
    "    excesso = peso;\n",
    "    multa = excesso * 4.00;\n",
    "    print('Excesso: ',excesso,'Quilos','\\nMulta: R$', multa);\n",
    "else:\n",
    "    print('Excesso: ',excesso,'\\nMulta: R$', multa);\n",
    "    "
   ]
  },
  {
   "cell_type": "markdown",
   "metadata": {},
   "source": [
    "## Exercicio 8\n"
   ]
  },
  {
   "cell_type": "code",
   "execution_count": null,
   "metadata": {},
   "outputs": [],
   "source": [
    "Qtd_salario = input('Salario a hr: ');\n",
    "Qtd_salario = int(Qtd_salario);\n",
    "Qtd_hr = input ('Horas trabalhadas :');\n",
    "Qtd_hr = int(Qtd_hr);\n",
    "valor = Qtd_salario * Qtd_hr;\n",
    "\n",
    "IR = 0.011 * valor;\n",
    "INSS = 0.08 * valor;\n",
    "SINDICATO = 0.05 * valor;\n",
    "QTD_LIQUIDO = ((valor - INSS)-SINDICATO )- IR;\n",
    "\n",
    "print('Salário Bruto : R$',valor,'\\nImposto de Renda(11%) : R$',IR,'\\nINSS (8%) : R$',INSS,'\\nSindicato ( 5%) : R$',SINDICATO,'\\nSalário Liquido : R$',QTD_LIQUIDO)"
   ]
  },
  {
   "cell_type": "markdown",
   "metadata": {},
   "source": [
    "## Exercicio 9"
   ]
  },
  {
   "cell_type": "code",
   "execution_count": null,
   "metadata": {},
   "outputs": [],
   "source": [
    "valor = input('digite a primeira string: ');\n",
    "valor1 = input('digite a segu)nda string: ');\n",
    "\n",
    "print('String 1: ', valor);\n",
    "print('String 2: ', valor1);\n",
    "\n",
    "print('Tamanho de \"',valor,'\": ',len(valor));\n",
    "print('Tamanho de \"',valor1,'\": ',len(valor1));\n",
    "\n",
    "if (len(valor1) == len(valor)):\n",
    "    print('As duas strings são de tamanhos iguais');\n",
    "else:\n",
    "    print('As duas strings são de tamanhos diferentes');\n",
    "    \n",
    "\n",
    "if(valor == valor):\n",
    "    print('As duas strings possuem conteúdo diferente');\n",
    "else:\n",
    "    print('As duas strings possuem conteúdo diferente');\n"
   ]
  },
  {
   "cell_type": "markdown",
   "metadata": {},
   "source": [
    "## Exercicio 10"
   ]
  },
  {
   "cell_type": "code",
   "execution_count": 26,
   "metadata": {},
   "outputs": [
    {
     "name": "stdout",
     "output_type": "stream",
     "text": [
      "Digite a string :10\n",
      "01\n"
     ]
    }
   ],
   "source": [
    "digito = input('Digite a string :');\n",
    "\n",
    "print(digito[::-1].upper());\n"
   ]
  },
  {
   "cell_type": "markdown",
   "metadata": {},
   "source": [
    "## Exercicio 11\n"
   ]
  },
  {
   "cell_type": "code",
   "execution_count": 48,
   "metadata": {},
   "outputs": [
    {
     "name": "stdout",
     "output_type": "stream",
     "text": [
      "Digite a data: 07/08/1999\n",
      "07/08/1999\n",
      "Você nasceu em  07 de Setembro de 1999\n"
     ]
    }
   ],
   "source": [
    "vet = ['Janeiro','Fevereiro','Março','Abril','Maio','junho','Julho','Agosto','Setembro','Outubro','Novembro','Desembro'];\n",
    "\n",
    "data = str(input('Digite a data: '));\n",
    "\n",
    "if(len(data) == 8):\n",
    "     \n",
    "    auxDt = data[0] + data[1] + '/' + data[2] + data[3]+ '/' + data[4]+ data[5] + data[6] + data[7];\n",
    "    print(auxDt);\n",
    "    dia,mes,ano = auxDt.split('/');\n",
    "    b = vet[int(mes)-1];\n",
    "    print('Você nasceu em ',dia,'de',b,'de',ano);\n",
    "    \n",
    "if(len(data) == 10):\n",
    "     \n",
    "    auxDt = data;\n",
    "    print(auxDt);\n",
    "    dia,mes,ano = auxDt.split('/');\n",
    "    b = vet[int(mes)-1];\n",
    "    print('Você nasceu em ',dia,'de',b,'de',ano);\n",
    "    \n",
    "    "
   ]
  },
  {
   "cell_type": "code",
   "execution_count": 46,
   "metadata": {},
   "outputs": [
    {
     "name": "stdout",
     "output_type": "stream",
     "text": [
      "Digite a data: 07081999\n",
      "07/08/1999\n",
      "Você nasceu em  07 de Agosto de 1999\n"
     ]
    }
   ],
   "source": [
    "vet = ['Janeiro','Fevereiro','Março','Abril','Maio','junho','Julho','Agosto','Setembro','Outubro','Novembro','Desembro'];\n",
    "\n",
    "data = str(input('Digite a data: '));    \n",
    "auxDt = data[0] + data[1] + '/' + data[2] + data[3]+ '/' + data[4]+ data[5] + data[6] + data[7];\n",
    "print(auxDt);\n",
    "dia,mes,ano = auxDt.split('/');\n",
    "b = vet[int(mes)-1];\n",
    "print('Você nasceu em ',dia,'de',b,'de',ano);\n",
    "    "
   ]
  },
  {
   "cell_type": "markdown",
   "metadata": {},
   "source": [
    "## Execicio 12"
   ]
  },
  {
   "cell_type": "code",
   "execution_count": null,
   "metadata": {},
   "outputs": [],
   "source": []
  }
 ],
 "metadata": {
  "kernelspec": {
   "display_name": "Python 3",
   "language": "python",
   "name": "python3"
  },
  "language_info": {
   "codemirror_mode": {
    "name": "ipython",
    "version": 3
   },
   "file_extension": ".py",
   "mimetype": "text/x-python",
   "name": "python",
   "nbconvert_exporter": "python",
   "pygments_lexer": "ipython3",
   "version": "3.7.0"
  }
 },
 "nbformat": 4,
 "nbformat_minor": 2
}
