{
 "cells": [
  {
   "cell_type": "markdown",
   "metadata": {},
   "source": [
    "## Shalom fernando 81716247"
   ]
  },
  {
   "cell_type": "markdown",
   "metadata": {},
   "source": [
    "# Ex1"
   ]
  },
  {
   "cell_type": "code",
   "execution_count": 9,
   "metadata": {},
   "outputs": [],
   "source": [
    "Lista_1 = [11,9,70,23,4,53,6,7,10,1,-1,-10,100];\n"
   ]
  },
  {
   "cell_type": "markdown",
   "metadata": {},
   "source": [
    "## - Retornar o maior elemento"
   ]
  },
  {
   "cell_type": "code",
   "execution_count": 10,
   "metadata": {
    "scrolled": true
   },
   "outputs": [
    {
     "name": "stdout",
     "output_type": "stream",
     "text": [
      "100\n"
     ]
    }
   ],
   "source": [
    "Lista_1.sort();\n",
    "aux = len(Lista_1)-1;\n",
    "print(Lista_1[aux])"
   ]
  },
  {
   "cell_type": "code",
   "execution_count": 11,
   "metadata": {
    "scrolled": true
   },
   "outputs": [
    {
     "name": "stdout",
     "output_type": "stream",
     "text": [
      "100\n"
     ]
    }
   ],
   "source": [
    "aux = 0;\n",
    "for i in Lista_1:\n",
    "    if(i > 0 ):\n",
    "        aux = i;\n",
    "print(aux)"
   ]
  },
  {
   "cell_type": "code",
   "execution_count": 12,
   "metadata": {},
   "outputs": [
    {
     "data": {
      "text/plain": [
       "100"
      ]
     },
     "execution_count": 12,
     "metadata": {},
     "output_type": "execute_result"
    }
   ],
   "source": [
    "max(Lista_1)"
   ]
  },
  {
   "cell_type": "markdown",
   "metadata": {},
   "source": [
    "## - Retornar a soma dos elementos"
   ]
  },
  {
   "cell_type": "code",
   "execution_count": 13,
   "metadata": {},
   "outputs": [
    {
     "name": "stdout",
     "output_type": "stream",
     "text": [
      "283\n"
     ]
    }
   ],
   "source": [
    "soma = 0\n",
    "for i in Lista_1:\n",
    "    soma = soma + i;\n",
    "print(soma);\n",
    "\n",
    "    "
   ]
  },
  {
   "cell_type": "markdown",
   "metadata": {},
   "source": [
    "## - Retornar o numero de ocorrencia do primeiro elemento"
   ]
  },
  {
   "cell_type": "code",
   "execution_count": 14,
   "metadata": {},
   "outputs": [
    {
     "name": "stdout",
     "output_type": "stream",
     "text": [
      "Qtd de vezes:  1\n"
     ]
    }
   ],
   "source": [
    "aux = 0;\n",
    "for l, i in enumerate(Lista_1):\n",
    "    if(Lista_1[0] == Lista_1[l] ):\n",
    "        aux+=1;\n",
    "print('Qtd de vezes: ',aux)        "
   ]
  },
  {
   "cell_type": "markdown",
   "metadata": {},
   "source": [
    "## - Retornar a media dos elementos "
   ]
  },
  {
   "cell_type": "code",
   "execution_count": 15,
   "metadata": {},
   "outputs": [
    {
     "name": "stdout",
     "output_type": "stream",
     "text": [
      "21.76923076923077\n"
     ]
    }
   ],
   "source": [
    "soma = 0\n",
    "for i in Lista_1:\n",
    "    soma = soma + i;\n",
    "\n",
    "media= soma/len(Lista_1);\n",
    "print(media)"
   ]
  },
  {
   "cell_type": "markdown",
   "metadata": {},
   "source": [
    "## - Retornar o valor mais proximo da media"
   ]
  },
  {
   "cell_type": "code",
   "execution_count": 16,
   "metadata": {},
   "outputs": [
    {
     "name": "stdout",
     "output_type": "stream",
     "text": [
      "23\n"
     ]
    }
   ],
   "source": [
    "soma = 0\n",
    "aux = []\n",
    "aux2 = []\n",
    "for i in Lista_1:\n",
    "    soma = soma + i;\n",
    "\n",
    "media= soma/len(Lista_1);\n",
    "for i in Lista_1:\n",
    "    if(media > i ):\n",
    "        aux.append(i);\n",
    "    if(media < i ):\n",
    "        aux2.append(i);\n",
    "aux3 = media - max(aux); \n",
    "aux4 = min(aux2) - media;\n",
    "\n",
    "if(aux3 < aux4):\n",
    "     aux3 = max(aux)\n",
    "else:\n",
    "     aux3 = min(aux2)\n",
    "        \n",
    "print(aux3)"
   ]
  },
  {
   "cell_type": "markdown",
   "metadata": {},
   "source": [
    "## - Retornar a soma dos elementos com valor negativo"
   ]
  },
  {
   "cell_type": "code",
   "execution_count": 17,
   "metadata": {},
   "outputs": [
    {
     "name": "stdout",
     "output_type": "stream",
     "text": [
      "-11\n"
     ]
    }
   ],
   "source": [
    "soma = 0;\n",
    "for i in Lista_1:\n",
    "    if(i < 0):\n",
    "        soma = soma + i;\n",
    "print(soma)"
   ]
  },
  {
   "cell_type": "markdown",
   "metadata": {},
   "source": [
    "## - Retornar a quantidade de vizinhos iguais"
   ]
  },
  {
   "cell_type": "code",
   "execution_count": 18,
   "metadata": {},
   "outputs": [
    {
     "name": "stdout",
     "output_type": "stream",
     "text": [
      "0\n"
     ]
    }
   ],
   "source": [
    "x = 0\n",
    "c =  0\n",
    "aux = 0\n",
    "vet= [] \n",
    "vet+= Lista_1\n",
    "for c,i in enumerate(Lista_1):\n",
    "    if(c < len(Lista_1)-1):\n",
    "        if(x < len(Lista_1)-1):\n",
    "            x = c + 1\n",
    "        if(Lista_1[c] == Lista_1[x]):\n",
    "            aux+=1;\n",
    "print(aux)\n",
    "    \n",
    "    \n"
   ]
  },
  {
   "cell_type": "code",
   "execution_count": 19,
   "metadata": {},
   "outputs": [
    {
     "data": {
      "text/plain": [
       "[-10, -1, 1, 4, 6, 7, 9, 10, 11, 23, 53, 70, 100]"
      ]
     },
     "execution_count": 19,
     "metadata": {},
     "output_type": "execute_result"
    }
   ],
   "source": [
    "Lista_1[::1]"
   ]
  },
  {
   "cell_type": "markdown",
   "metadata": {},
   "source": [
    "## 2 Faça um programa que receba duas listas e retorne True se são iguais ou False caso\n",
    "## contrario. Duas listas são iguais se possuem os mesmos valores e na mesma ordem."
   ]
  },
  {
   "cell_type": "code",
   "execution_count": 20,
   "metadata": {},
   "outputs": [
    {
     "name": "stdout",
     "output_type": "stream",
     "text": [
      "True\n"
     ]
    }
   ],
   "source": [
    "lista_a = [11, 9, 70, 23, 4, 53, 6, 7, 10, 1, -1, -10, 100];\n",
    "lista_b = [11, 9, 70, 23, 4, 53, 6, 7, 10, 1, -1, -10, 100];\n",
    "\n",
    "if(lista_a == lista_b):\n",
    "    print(True);\n",
    "else:\n",
    "    print(False);\n"
   ]
  },
  {
   "cell_type": "markdown",
   "metadata": {},
   "source": [
    "## 3 Faça um programa que receba duas listas e retorne True se têm os mesmos\n",
    "## elementos ou False caso contrário\n",
    "## Duas listas possuem os mesmos elementos quando são compostas pelos mesmos\n",
    "## valores, mas não obrigatoriamente na mesma ordem."
   ]
  },
  {
   "cell_type": "code",
   "execution_count": 21,
   "metadata": {},
   "outputs": [
    {
     "name": "stdout",
     "output_type": "stream",
     "text": [
      "True\n"
     ]
    }
   ],
   "source": [
    "lista_a = [11, 9, 70, 23, 4, 53, 6, 7, 10, 1, -1, -10, 100];\n",
    "lista_b = [9, 11, 70, 23, 4, 53, 6, 7, 10, 1, -1, 100, -10];\n",
    "cont = 0\n",
    "if(lista_a == lista_b):\n",
    "    print(True);\n",
    "else:\n",
    "    if(len(lista_a) == len(lista_b)):\n",
    "        for a in lista_a:\n",
    "            for b in lista_b:\n",
    "                if(a == b):\n",
    "                    cont+=1;\n",
    "\n",
    "        if(cont == len(lista_a)):\n",
    "            print(True)\n",
    "        else:\n",
    "            print(False)\n",
    "    else:\n",
    "        print(False)\n"
   ]
  },
  {
   "cell_type": "markdown",
   "metadata": {},
   "source": [
    "## 4 Faça um programa que percorre uma lista com o seguinte formato: [['Brasil',\n",
    "## 'Italia', [10, 9]], ['Brasil', 'Espanha', [5, 7]], ['Italia', 'Espanha', [7,8]]]. Essa lista indica o\n",
    "## número de faltas que cada time fez em cada jogo. Na lista acima, no jogo entre Brasil\n",
    "## e Itália, o Brasil fez 10 faltas e a Itália fez 9.\n",
    "## O programa deve imprimir na tela:\n",
    "## - o total de faltas do campeonato\n",
    "## - o time que fez mais faltas\n",
    "## - o time que fez menos faltas"
   ]
  },
  {
   "cell_type": "code",
   "execution_count": 22,
   "metadata": {},
   "outputs": [
    {
     "name": "stdout",
     "output_type": "stream",
     "text": [
      "O total de faltas foi: 46\n",
      "A maior falta foi: 10\n",
      "A menor falta: 5\n",
      "\n",
      "O time com maior faltas foi: Brasil\n",
      "O time com menor faltas foi: Brasil\n",
      "\n",
      "{'Brasil': 15, 'Italia': 16, 'Espanha': 15}\n"
     ]
    }
   ],
   "source": [
    "jogos = [['Brasil','Italia',[10,9]],['Brasil','Espanha',[5,7]],['Italia','Espanha',[7,8]]]\n",
    "total_faltas = 0\n",
    "time_maior_falta = \"\"\n",
    "time_menor_falta = \"\"\n",
    "maior_falta = 0\n",
    "menor_falta = 0\n",
    "lista = []\n",
    "\n",
    "for jogo in jogos:\n",
    "    total_faltas += jogo[2][0]\n",
    "    total_faltas += jogo[2][1]\n",
    "    \n",
    "    lista += jogo[2]\n",
    "    \n",
    "    for lista_num in lista:\n",
    "        if(lista_num > maior_falta):\n",
    "            maior_falta = lista_num\n",
    "        \n",
    "        \n",
    "    menor_falta = maior_falta\n",
    "    for lista_menor in lista:\n",
    "        if(lista_menor < menor_falta):\n",
    "            menor_falta = lista_menor\n",
    "        \n",
    "    if(jogo[2][0] == maior_falta):\n",
    "        time_maior_falta = jogo[0]\n",
    "    elif (jogo[2][1] == maior_falta):\n",
    "        time_maior_falta = jogo[1]\n",
    "    \n",
    "    if(jogo[2][0] == menor_falta):\n",
    "        time_menor_falta = jogo[0]\n",
    "    elif (jogo[2][1] == menor_falta):\n",
    "        time_menor_falta = jogo[1]\n",
    "        \n",
    "print(\"O total de faltas foi: {}\".format(total_faltas))\n",
    "print(\"A maior falta foi: {}\".format(maior_falta))\n",
    "print(\"A menor falta: {}\".format(menor_falta))\n",
    "\n",
    "print(\"\\nO time com maior faltas foi: {}\".format(time_maior_falta))\n",
    "print(\"O time com menor faltas foi: {}\\n\".format(time_menor_falta))\n",
    "\n",
    "\n",
    "\n",
    "d = {}\n",
    "\n",
    "for jogo in jogos:\n",
    "    d[jogo[0]]= 0\n",
    "    d[jogo[1]] = 0\n",
    "\n",
    "for jogo in jogos:\n",
    "    d[jogo[0]] += jogo[2][0]\n",
    "    d[jogo[1]] += jogo[2][1]\n",
    "print(d)"
   ]
  },
  {
   "cell_type": "markdown",
   "metadata": {},
   "source": [
    "## 5 Escreva um programa que conta a quantidade de vogais em uma string e armazena\n",
    "## tal quantidade em um dicionário, onde a chave é a vogal considerada."
   ]
  },
  {
   "cell_type": "code",
   "execution_count": 23,
   "metadata": {},
   "outputs": [
    {
     "name": "stdout",
     "output_type": "stream",
     "text": [
      "digite: pogba\n",
      "pogba\n"
     ]
    },
    {
     "data": {
      "text/plain": [
       "{'a': 1, 'e': 0, 'i': 0, 'o': 1, 'u': 0}"
      ]
     },
     "execution_count": 23,
     "metadata": {},
     "output_type": "execute_result"
    }
   ],
   "source": [
    "string = input(\"digite: \").lower()\n",
    "print(string)\n",
    "dicionario ={'a':0,'e':0,'i':0,'o':0,'u':0}\n",
    "\n",
    "vet = ['a','e','i','o','u']\n",
    "for v in string:\n",
    "    for i in vet:\n",
    "        if(v == i):\n",
    "            dicionario[v] = string.count(v);\n",
    "dicionario"
   ]
  },
  {
   "cell_type": "markdown",
   "metadata": {},
   "source": [
    "## 6 Escreva um programa que lê duas notas de vários alunos e armazena tais notas em um dicionário, onde a chave é o nome do aluno. A entrada de dados deve terminar quando for lida uma string vazia como nome. Escreva uma função que retorna a média do aluno, dado seu nome."
   ]
  },
  {
   "cell_type": "code",
   "execution_count": 24,
   "metadata": {},
   "outputs": [
    {
     "name": "stdout",
     "output_type": "stream",
     "text": [
      "Digite o nome do alunosha\n",
      "digite a nota do aluno15\n",
      "digite a nota do aluno5\n",
      "Digite o nome do aluno\n",
      "{'sha': [15, 5]}: {'sha': 10.0}\n"
     ]
    }
   ],
   "source": [
    "aluno = \"s\"\n",
    "nota = 0\n",
    "nota1 = 0\n",
    "dic = {}\n",
    "media = {}\n",
    "\n",
    "while(aluno!=\"\"):\n",
    "    aluno = input(\"Digite o nome do aluno\")\n",
    "    \n",
    "    if( aluno!=\"\"):\n",
    "        nota = int(input(\"digite a nota do aluno\"))\n",
    "        nota1 = int(input(\"digite a nota do aluno\"))\n",
    "        list_nota = [nota,nota1]\n",
    "        dic[aluno] = list_nota\n",
    "        aux = 0\n",
    "        for i in list_nota:\n",
    "            aux += i\n",
    "        media[aluno] = aux/2\n",
    "    \n",
    "print(\"{}: {}\".format(dic, media))   \n",
    "#print(dic,\"/nM\",media)   \n",
    "    "
   ]
  },
  {
   "cell_type": "markdown",
   "metadata": {},
   "source": [
    "## Uma pista de Kart permite 10 voltas para cada um de 6 corredores. Escreva um\n",
    "programa que leia todos os tempos em segundos e os guarde em um dicionário,\n",
    "onde a chave é o nome do corredor. \n",
    "Ao final diga de quem foi a melhor volta da prova e em que volta; e ainda a classificação final em ordem (1o\n",
    " o campeão). O campeão é o que tem a menor média de tempos.\n",
    " "
   ]
  },
  {
   "cell_type": "code",
   "execution_count": 25,
   "metadata": {},
   "outputs": [
    {
     "name": "stdout",
     "output_type": "stream",
     "text": [
      "O participante com menor tempo é: João.\n",
      "O menor tempo é: 20, na volta: 6.\n",
      "João 1ª lugar\n",
      "Daniel 2ª lugar\n",
      "Cleber 3ª lugar\n",
      "Julho 4ª lugar\n",
      "Pedro 5ª lugar\n",
      "Adilson 6ª lugar\n"
     ]
    }
   ],
   "source": [
    "dicionario = {\"Daniel\":[30,70,80,90,100,90,80,70,60,50],\n",
    "              \"João\":[40,60,50,40,30,20,80,60,90,80],\n",
    "             \"Cleber\":[30,70,70,90,100,80,70,70,60,60],\n",
    "             \"Julho\":[50,70,80,30,100,60,80,60,60,70],\n",
    "             \"Adilson\":[60,40,40,90,60,90,80,50,80,90],\n",
    "             \"Pedro\":[90,70,80,40,50,90,80,70,30,40]}\n",
    "menor_tempo = 100\n",
    "volta = 0\n",
    "qual_volta = 0\n",
    "qual_participante = \"\"\n",
    "lista = []\n",
    "restriter = 0\n",
    "i = 0\n",
    "for cont in range(6):\n",
    "    for var in dicionario.keys():\n",
    "        for tempo in dicionario[var]:\n",
    "            volta += 1\n",
    "            if(tempo < menor_tempo):\n",
    "                    menor_tempo =tempo\n",
    "                    qual_participante = var\n",
    "                    qual_volta = volta\n",
    "        volta = 0\n",
    "    if(restriter == 0):\n",
    "        restriter = 1\n",
    "        print(\"O participante com menor tempo é: {}.\\nO menor tempo é: {}, na volta: {}.\".format(qual_participante,menor_tempo,qual_volta))\n",
    "    lista += [qual_participante]\n",
    "    menor_tempo = 100\n",
    "    del(dicionario[qual_participante])\n",
    "    \n",
    "for var in lista:\n",
    "    i += 1\n",
    "    print(\"{} {}ª lugar\".format(var,i))\n",
    "    \n"
   ]
  },
  {
   "cell_type": "markdown",
   "metadata": {},
   "source": [
    "## 8 Escreva um programa para armazenar uma agenda de telefones em um dicionário. Cada pessoa pode ter um ou mais telefones e a chave do dicionário é o nome da pessoa. Seu programa deve ter as seguintes funções: incluirNovoNome – essa função acrescenta um novo nome na agenda, com um ou mais telefones. Ela deve receber como argumentos o nome e os telefones. incluirTelefone – essa função acrescenta um telefone em um nome existente na agenda. Caso o nome não exista na agenda, voc deve perguntar se a pessoa deseja ê̂ duas notas de vários alunos e armazena tais notas em inclui-lo. Caso a resposta seja afirmativa, use a função anterior para incluir o novo nome. excluirTelefone – essa função exclui um telefone de uma pessoa que já está na agenda. Se a pessoa tiver apenas um telefone, ela deve ser excluída da agenda. excluirNome – essa função exclui uma pessoa da agenda. consultarTelefone – essa função retorna os telefones de uma pessoa na agenda\n"
   ]
  },
  {
   "cell_type": "code",
   "execution_count": 26,
   "metadata": {},
   "outputs": [
    {
     "name": "stdout",
     "output_type": "stream",
     "text": [
      "Digite o nome do contato: sd\n",
      "Digite o numero do contato: 1516\n",
      "Adicionar mais algum numero?\n",
      "(Digite: N para sair e S para continuar): n\n",
      "\n",
      "Mostrar agenda?\n",
      "Digite 'mostrar'\n",
      "Adicionar mais algum contato?\n",
      "Digite: 'add' para continuar\n",
      "\n",
      "Deseja adicionar mais um contato?\n",
      "Digite 'addnum' para continuar\n",
      "\n",
      "Deseja excluir um contato?\n",
      "Digite 'excluir'\n",
      "\n",
      "Finalizar o programa?Digite 'x'\n",
      "\n",
      "Você digitou: x\n"
     ]
    }
   ],
   "source": [
    "option = \"add\"\n",
    "add_telefone = 0\n",
    "telefone = 0\n",
    "lista = []\n",
    "dicionario = {}\n",
    "\n",
    "while(option != \"x\"):\n",
    "    \n",
    "    if(option == \"add\"):\n",
    "        add_telefone = \"\"\n",
    "        lista = []\n",
    "        nome = input(\"Digite o nome do contato: \")\n",
    "\n",
    "        while(add_telefone != \"n\"):\n",
    "            telefone = int(input(\"Digite o numero do contato: \"))\n",
    "            add_telefone = input(\"Adicionar mais algum numero?\\n(Digite: N para sair e S para continuar): \").lower()\n",
    "            lista += [telefone]\n",
    "            dicionario[nome] = lista\n",
    "    if(option == \"addnum\"):\n",
    "        nome = input(\"Digite o nome do contato: \")\n",
    "        telefone = int(input(\"Digite o numero do contato: \"))\n",
    "        add_telefone = input(\"Adicionar mais algum numero?\\n(Digite: N para sair e S para continuar): \").lower()\n",
    "        lista += [telefone]\n",
    "        dicionario[nome] = lista\n",
    "        \n",
    "    if(option == \"excluir\"):\n",
    "        nome = input(\"Digite o nome do contato: \")\n",
    "        del(dicionario[nome])\n",
    "        \n",
    "    if(option == \"mostrar\"):\n",
    "        print(\"\\nSeus contatos são: \")\n",
    "        for i in dicionario.keys():\n",
    "            print(\"\\nNome: {}\".format(i))\n",
    "            for j in dicionario[i]:\n",
    "                print(\"Numero: {}\".format(j))\n",
    "        \n",
    "    option = input(\"\\nMostrar agenda?\\nDigite 'mostrar'\\nAdicionar mais algum contato?\\nDigite: 'add' para continuar\\n\\nDeseja adicionar mais um contato?\\nDigite 'addnum' para continuar\\n\\nDeseja excluir um contato?\\nDigite 'excluir'\\n\\nFinalizar o programa?Digite 'x'\\n\\nVocê digitou: \").lower()"
   ]
  },
  {
   "cell_type": "markdown",
   "metadata": {},
   "source": [
    "## 9 Faça um programa que leia um arquivo texto contendo uma lista de endereços IP e\n",
    "gere um outro arquivo, contendo um relatório dos endereços IP válidos e inválidos.\n",
    "O arquivo de entrada possui o seguinte formato:"
   ]
  },
  {
   "cell_type": "code",
   "execution_count": 5,
   "metadata": {},
   "outputs": [
    {
     "name": "stdout",
     "output_type": "stream",
     "text": [
      "Overwriting ips.txt\n"
     ]
    }
   ],
   "source": [
    "%%writefile ips.txt\n",
    "200.135.80.9\n",
    "192.168.1.1\n",
    "8.35.67.74\n",
    "257.32.4.5\n",
    "85.345.1.2\n",
    "1.2.3.4\n",
    "9.8.234.5\n",
    "192.168.0.256"
   ]
  },
  {
   "cell_type": "code",
   "execution_count": 6,
   "metadata": {},
   "outputs": [],
   "source": [
    "import socket\n",
    "\n",
    "ipsValidos = []\n",
    "ipsInvalidos = []\n",
    "\n",
    "ips = open(\"ips.txt\")\n",
    "for ip in ips:\n",
    "    try:\n",
    "        socket.inet_aton(ip)\n",
    "        # Validos\n",
    "        ipsValidos.append(ip)\n",
    "    except socket.error:\n",
    "        # Invalidos\n",
    "        ipsInvalidos.append(ip)\n",
    "        \n",
    "ips.close()\n",
    "\n",
    "saida = open(\"ipsvalidados.txt\", \"w+\")\n",
    "\n",
    "saida.write(\"[Endereços válidos:]\\n\")\n",
    "for ip in ipsValidos:\n",
    "    saida.write(ip)\n",
    "    \n",
    "saida.write(\"[Endereços inválidos:]\\n\")\n",
    "for ip in ipsInvalidos:\n",
    "    saida.write(ip)\n",
    "    \n",
    "saida.close()"
   ]
  },
  {
   "cell_type": "markdown",
   "metadata": {},
   "source": [
    "## 10 A ACME Inc., uma empresa de 500 funcionários, está tendo problemas de espaço em disco no seu servidor de arquivos. Para tentar resolver este problema, o Administrador de Rede precisa saber qual o espaço ocupado pelos usuários, e identificar os usuários com maior espaço ocupado. Através de um programa, baixado da Internet, ele conseguiu gerar o seguinte arquivo, chamado \"usuarios.txt\":"
   ]
  },
  {
   "cell_type": "code",
   "execution_count": 7,
   "metadata": {},
   "outputs": [
    {
     "name": "stdout",
     "output_type": "stream",
     "text": [
      "Writing usuarios.txt\n"
     ]
    }
   ],
   "source": [
    "%%writefile usuarios.txt\n",
    "victor 123456789\n",
    "daniel 987654321\n",
    "shalom 123456456\n",
    "samuel 91257581"
   ]
  },
  {
   "cell_type": "code",
   "execution_count": 8,
   "metadata": {},
   "outputs": [],
   "source": [
    "def paraMb(tamanho):\n",
    "    return float(tamanho / (1024*1024))\n",
    "\n",
    "def usoMemoria(tamanho, total):\n",
    "    return float(tamanho / total) * 100\n",
    "\n",
    "dic = {}\n",
    "total = 0 \n",
    "usuario = open(\"usuarios.txt\")\n",
    "for usuarios in usuario:\n",
    "    nome,memoria = usuarios.split(\" \")\n",
    "    dic[nome] = int(memoria)\n",
    "    total += int(memoria)\n",
    "usuario.close()\n",
    "media =total / len(dic.keys())\n",
    "\n",
    "relatorio = open(\"relatorio.txt\",\"w+\")\n",
    "relatorio.write(\"Acme Inc.                              Uso do espaço em disco pelos usuarios.\\n\")\n",
    "relatorio.write(\"------------------------------------------------------------------------------\\n\")\n",
    "relatorio.write(\"\\n.\\tUsuario \\tEspaço utilizado \\t% do uso\\n\")\n",
    "\n",
    "nr = 1\n",
    "\n",
    "for usuario in dic:\n",
    "    relatorio.write(str(nr) + \"\\t\" + usuario + \"\\t\" + \"{0:.2f}\".format(paraMb(dic[usuario])) + \" MB\\t\\t\" + \"{0:.2f}\".format(usoMemoria(dic[usuario], total)) + \"%\\n\")\n",
    "    nr += 1\n",
    "    \n",
    "relatorio.write(\"Espaço total ocupado \" + \"{0:.2f}\".format(paraMb(total))+\"\\n\")\n",
    "relatorio.write(\"Espaço medio ocupado \" + \"{0:.2f}\".format(paraMb(media)))\n",
    "\n",
    "relatorio.close()"
   ]
  },
  {
   "cell_type": "code",
   "execution_count": null,
   "metadata": {},
   "outputs": [],
   "source": []
  }
 ],
 "metadata": {
  "kernelspec": {
   "display_name": "Python 3",
   "language": "python",
   "name": "python3"
  }
 },
 "nbformat": 4,
 "nbformat_minor": 2
}
