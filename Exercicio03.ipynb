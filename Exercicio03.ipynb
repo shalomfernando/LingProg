{
 "cells": [
  {
   "cell_type": "markdown",
   "metadata": {},
   "source": [
    "# Shalom fernando 81716247"
   ]
  },
  {
   "cell_type": "markdown",
   "metadata": {},
   "source": [
    "## 1. Faça um Programa que peça dois números e imprima o maior deles."
   ]
  },
  {
   "cell_type": "code",
   "execution_count": null,
   "metadata": {},
   "outputs": [],
   "source": [
    "s = int(input(\"Digite\"));\n",
    "x = int(input(\"Digite\"));\n",
    "\n",
    "if(x>s):\n",
    "    print(x,\" é o maior\")\n",
    "else:\n",
    "    print(s,\"é  o maior\")\n",
    "    "
   ]
  },
  {
   "cell_type": "markdown",
   "metadata": {},
   "source": [
    "## 2. Faça um Programa que verifique se uma letra digitada é vogal ou consoante."
   ]
  },
  {
   "cell_type": "code",
   "execution_count": null,
   "metadata": {},
   "outputs": [],
   "source": [
    "vet = ['a','e','i','o','u']\n",
    "n = input(\"digite\");\n",
    "\n",
    "for i in vet:\n",
    "    if(n == i):\n",
    "        print(\"vogal\");\n",
    "        break;\n",
    "    else:\n",
    "        print(\"não vogal\")\n",
    "        break;\n"
   ]
  },
  {
   "cell_type": "markdown",
   "metadata": {},
   "source": [
    "## 3. Faça um programa para a leitura de duas notas parciais de um aluno. O programa\n",
    "## deve calcular a média alcançada por aluno e apresentar:\n",
    "## - A mensagem \"Aprovado\", se a média alcançada for maior ou igual a sete;\n",
    "## - A mensagem \"Reprovado\", se a média for menor do que sete;\n",
    "## - A mensagem \"Aprovado com Distinção\", se a média for igual a dez"
   ]
  },
  {
   "cell_type": "code",
   "execution_count": null,
   "metadata": {},
   "outputs": [],
   "source": [
    "i = int(input(\"Digite\"));\n",
    "a = int(input(\"Digite\"));\n",
    "\n",
    "soma = i + a;\n",
    "media = soma/2;\n",
    "if(media>=7):\n",
    "    print(\"Aprovado\")\n",
    "if(media<7):\n",
    "    print(\"Reprovado\")\n",
    "if(media==10):\n",
    "    print(\"Aprovado com Distinção\")\n",
    "    "
   ]
  },
  {
   "cell_type": "markdown",
   "metadata": {},
   "source": [
    "## 4. Faça um Programa que leia três números e mostre-os em ordem decrescente"
   ]
  },
  {
   "cell_type": "code",
   "execution_count": null,
   "metadata": {},
   "outputs": [],
   "source": [
    "a = int(input('Primeiro numero: '))\n",
    "b  = int(input('Segundo numero : '))\n",
    "c = int(input('Terceiro numero: '))\n",
    "\n",
    "print(a,'-',b,'-',c)\n",
    "\n",
    "if(c > b):\n",
    "    aux = c\n",
    "    c = b\n",
    "    b = aux\n",
    "\n",
    "if(b > a):\n",
    "    aux = b\n",
    "    b = a\n",
    "    a = aux\n",
    "\n",
    "if(c > b):\n",
    "    aux = c\n",
    "    c = b\n",
    "    b = aux\n",
    "\n",
    "print(a,'-',b,'-',c)\n",
    "\n"
   ]
  },
  {
   "cell_type": "markdown",
   "metadata": {},
   "source": [
    " 5. As Organizações Tabajara resolveram dar um aumento de salário aos seus\n",
    "colaboradores e lhe contrataram para desenvolver o programa que calculará os\n",
    "reajustes.\n",
    "Faça um programa que recebe o salário de um colaborador e o reajuste segundo o\n",
    "seguinte critério, baseado no salário atual:\n",
    "- salários até R$ 280,00 (incluindo) : aumento de 20%\n",
    "- salários entre R$ 280,00 e R$ 700,00 : aumento de 15%\n",
    "- salários entre R$ 700,00 e R$ 1500,00 : aumento de 10%\n",
    "- salários de R$ 1500,00 em diante : aumento de 5% Após o aumento ser realizado,\n",
    "informe na tela:\n",
    "- o salário antes do reajuste;\n",
    "- o percentual de aumento aplicado;\n",
    "- o valor do aumento;\n",
    "- o novo salário, após o aumento."
   ]
  },
  {
   "cell_type": "code",
   "execution_count": null,
   "metadata": {},
   "outputs": [],
   "source": [
    "salario = input(‘Digite seu salário: ‘)\n",
    "\n",
    "#Se o salario for maior que 280\n",
    "\n",
    "if salario <= 280.00:\n",
    "      por = (20 / 100.0) * salario\n",
    "      resultado = salario + por\n",
    "      print ‘Seu salário antes do reajuste: R$’,salario\n",
    "      print ‘Percentual aumentado: %’,20\n",
    "      print ‘O valor do aumento é: R$’,por\n",
    "      print ‘Com o reajuste, o seu salário é: R$’,resultado\n",
    "\n",
    "#Se o salario é maior que 280 e menor que 700\n",
    "\n",
    "elif salario > 280.00 and salario <= 700.00:\n",
    "        por = (15 / 100.0) * salario\n",
    "        resultado = salario + por\n",
    "        print ‘Seu salário antes do reajuste: R$’,salario\n",
    "        print ‘Percentual aumentado: %’,15\n",
    "        print ‘O valor do aumento é: R$’,por\n",
    "        print ‘Com o reajuste, o seu salário é: R$’,resultado\n",
    "\n",
    "#Se o salario é maior que 700 e menor que 1500\n",
    "\n",
    "elif salario > 700.00 and salario <= 1500.00:\n",
    "        por = (10 / 100.0) * salario\n",
    "        resultado = salario + por\n",
    "        print ('Seu salário antes do reajuste: R$',salario)\n",
    "        print ‘('Percentual aumentado: %',10)\n",
    "        print ‘O valor do aumento é: R$’,por\n",
    "        print ‘Com o reajuste, o seu salário é: R$’,resultado\n",
    "\n",
    "#Se o salario é maior que 1500\n",
    "\n",
    "elif salario > 1500.00:\n",
    "        por = (5 / 100.0) * salario\n",
    "        resultado = salario + por\n",
    "        print ‘Seu salário antes do reajuste: R$’,salario\n",
    "        print ‘Percentual aumentado: %’,5\n",
    "        print ‘O valor do aumento é: R$’,por\n",
    "        print ‘Com o reajuste, o seu salário é: R$’,resultado"
   ]
  },
  {
   "cell_type": "markdown",
   "metadata": {},
   "source": [
    "# 6. Faça um Programa que leia um número e exiba o dia correspondente da semana.\n",
    "(1-Domingo, 2- Segunda, etc.), se digitar outro valor deve aparecer valor inválido"
   ]
  },
  {
   "cell_type": "code",
   "execution_count": null,
   "metadata": {},
   "outputs": [],
   "source": [
    "dia = {'1':'Segunda-Feira','2':'Terça-Feira','3':'Quarta-Feira','4':'Quinta-Feira','5':'Sexta-Feira','6':'Sabado','7':'Domingo'}\n",
    "n = input(\"digite\");\n",
    "for r,i in dia.items():\n",
    "    if(n == r):\n",
    "        print(i)\n",
    "        break\n",
    "else:\n",
    "    print(\"valor invalido\")\n",
    "    \n"
   ]
  },
  {
   "cell_type": "code",
   "execution_count": null,
   "metadata": {},
   "outputs": [],
   "source": [
    "print(dia)"
   ]
  },
  {
   "cell_type": "markdown",
   "metadata": {},
   "source": [
    "## 7. Faça um programa que lê as duas notas parciais obtidas por um aluno numa\n",
    "disciplina ao longo de um semestre, e calcule a sua média. A atribuição de conceitos\n",
    "obedece à tabela abaixo:\n",
    " Média de Aproveitamento Conceito\n",
    " Entre 9.0 e 10.0 A\n",
    " Entre 7.5 e 9.0 B\n",
    " Entre 6.0 e 7.5 C\n",
    " Entre 4.0 e 6.0 D\n",
    " Entre 4.0 e zero E\n",
    "O algoritmo deve mostrar na tela as notas, a média, o conceito correspondente e a\n",
    "mensagem “APROVADO” se o conceito for A, B ou C ou “REPROVADO” se o conceito\n",
    "for D ou E."
   ]
  },
  {
   "cell_type": "code",
   "execution_count": null,
   "metadata": {},
   "outputs": [],
   "source": [
    "i = int(input(\"nota 1 : \"))\n",
    "o = int(input(\"nota 2 : \"))\n",
    "\n",
    "soma = i + o;\n",
    "media = soma / 2;\n",
    "\n",
    "\n",
    "if(media >= 9 and media <= 10):\n",
    "    aprovacao = 'A';\n",
    "if(media >= 7.5 and media < 9):\n",
    "    aprovacao = 'B';\n",
    "if(media >= 6 and media < 7.5):\n",
    "    aprovacao = 'C';\n",
    "if(media >= 4 and media < 6):\n",
    "    aprovacao = 'D';\n",
    "if(media >= 0 and media < 4):\n",
    "    aprovacao = 'E';\n",
    "print(\"notas: \", i ,\" e \", o,\"\\nMedia: \",media,\"\\nConceito: \", aprovacao)\n",
    "    "
   ]
  },
  {
   "cell_type": "markdown",
   "metadata": {},
   "source": [
    "## 8. Faça um Programa que peça os 3 lados de um triângulo. O programa deverá\n",
    "informar se os valores podem ser um triângulo. Indique, caso os lados formem um\n",
    "triângulo, se o mesmo é: equilátero, isósceles ou escaleno.\n",
    "Dicas:\n",
    "- Três lados formam um triângulo quando a soma de quaisquer dois lados for maior\n",
    "que o terceiro;\n",
    "- Triângulo Equilátero: três lados iguais;\n",
    "- Triângulo Isósceles: quaisquer dois lados iguais;\n",
    "- Triângulo Escaleno: três lados diferentes;"
   ]
  },
  {
   "cell_type": "code",
   "execution_count": null,
   "metadata": {},
   "outputs": [],
   "source": [
    "lado1 = int(input(\"lado : \"))\n",
    "lado2 = int(input(\"lado : \"))\n",
    "lado3 = int(input(\"lado : \"))\n",
    "\n",
    "if lado1+lado2 > lado3 and lado2+lado3 > lado1 :\n",
    "    print(\"Triangulo\")\n",
    "    if lado1 == lado2 and lado3 == lado1:\n",
    "        print(\"Equilatero\")\n",
    "    if lado1 == lado2 or lado3 == lado1 or lado2 == lado3:\n",
    "        print(\"Isosceles\")\n",
    "    else:\n",
    "        print(\"Escaleno\");\n",
    "else:\n",
    "    print(\"ñ triangulo\")"
   ]
  },
  {
   "cell_type": "markdown",
   "metadata": {},
   "source": [
    "## 9. Faça um programa que calcule as raízes de uma equação do segundo grau, na\n",
    "forma ax2 + bx + c. O programa deverá pedir os valores de a, b e c e fazer as\n",
    "consistências, informando ao usuário nas seguintes situações:\n",
    "- Se o usuário informar o valor de A igual a zero, a equação não é do segundo grau e\n",
    "o programa não deve fazer pedir os demais valores, sendo encerrado;\n",
    "- Se o delta calculado for negativo, a equação não possui raizes reais. Informe ao\n",
    "usuário e encerre o programa;\n",
    "- Se o delta calculado for igual a zero a equação possui apenas uma raiz real;\n",
    "informe-a ao usuário;\n",
    "- Se o delta for positivo, a equação possui duas raiz reais; informe-as ao usuário;"
   ]
  },
  {
   "cell_type": "code",
   "execution_count": null,
   "metadata": {},
   "outputs": [],
   "source": [
    "a = int(input(\"digite : \"))\n",
    "\n",
    "\n",
    "if a == 0 :\n",
    "    print(\"ñ é uma equação do segundo gau\")\n",
    "else:\n",
    "    b = int(input(\"digite : \"))\n",
    "    c = int(input(\"digite : \"))\n",
    "    \n",
    "    delta = (b**2)\n",
    "    delta = delta - (4*a)*c\n",
    "    if delta < 0 :\n",
    "        print(\"A equacao não possue raizes reais\")\n",
    "    if delta == 0:\n",
    "        print(\" a equação possue apena uma raiz\")\n",
    "    if delta > 0 :\n",
    "        print(\"Delta possue duas raizes\")\n",
    "\n",
    "        x1 = (-b+(delta**(1/2)))/2*a\n",
    "        x2 = (-b-(delta**(1/2)))/2*a\n",
    "\n",
    "        resultado = x1 / x2\n",
    "        print(resultado)\n",
    "\n",
    "    "
   ]
  },
  {
   "cell_type": "markdown",
   "metadata": {},
   "source": [
    "## 10. Faça um Programa para um caixa eletrônico. O programa deverá perguntar ao usuário a valor do saque e depois informar quantas notas de cada valor serão fornecidas. As notas disponíveis serão as de 1, 5, 10, 50 e 100 reais. O valor mínimo é de 10 reais e o máximo de 600 reais. O programa não deve se preocupar com a quantidade de notas existentes na máquina.\n",
    "- Exemplo 1: Para sacar a quantia de 256 reais, o programa fornece duas notas de\n",
    "100, uma nota de 50, uma nota de 5 e uma nota de 1;\n",
    "- Exemplo 2: Para sacar a quantia de 399 reais, o programa fornece três notas de\n",
    "100, uma nota de 50, quatro notas de 10, uma nota de 5 e quatro notas de 1."
   ]
  },
  {
   "cell_type": "code",
   "execution_count": null,
   "metadata": {},
   "outputs": [],
   "source": [
    "n = int(input(\"digite: \"));\n",
    "\n",
    "notas = {1:100,2:50,3:10,4:5,5:1}\n",
    "\n",
    "for p, i in notas.items():\n",
    "    while n >= i : \n",
    "        n = n-i;\n",
    "        print(\"Troco: \",i)\n",
    "    if(n==0):\n",
    "        break"
   ]
  },
  {
   "cell_type": "markdown",
   "metadata": {},
   "source": [
    "## 11. Faça um programa que faça 5 perguntas para uma pessoa sobre um crime. As\n",
    "perguntas são:\n",
    "\"Telefonou para a vítima?\"\n",
    "\"Esteve no local do crime?\"\n",
    "\"Mora perto da vítima?\"\n",
    "\"Devia para a vítima?\"\n",
    "\"Já trabalhou com a vítima?\"\n",
    "O programa deve no final emitir uma classificação sobre a participação da pessoa no\n",
    "crime. Se a pessoa responder positivamente a 2 questões ela deve ser classificada\n",
    "como \"Suspeita\", entre 3 e 4 como \"Cúmplice\" e 5 como \"Assassino\". Caso contrário,\n",
    "ele será classificado como \"Inocente\"."
   ]
  },
  {
   "cell_type": "code",
   "execution_count": null,
   "metadata": {},
   "outputs": [],
   "source": [
    "dicionario = {1:\"Telefonou para a vítima?\",2:\"Esteve no local do crime?\",3:\"Mora perto da vítima?\",\n",
    "              4:\"Devia para a vítima?\", 5:\"Já trabalhou com a vítima?\"}\n",
    "x =1 \n",
    "lista = {}\n",
    "\n",
    "while x != 6:\n",
    "    print(dicionario[x]);\n",
    "    n = input(\"digite \\nS para sim \\nN para não: \")\n",
    "    while n == 's' or n == 'n':\n",
    "        if(n == 's'):\n",
    "            lista[x]=True\n",
    "        if n == 'n':\n",
    "            lista[x] =False\n",
    "    x=x+1;\n",
    "if lista[2] == True:\n",
    "    print(\"Suspeito\")\n",
    "if lista[3] == True or lista[4] == True:\n",
    "    print(\"Cumplice\")\n",
    "if lista[5] == True:\n",
    "    print(\"Assacino\")"
   ]
  },
  {
   "cell_type": "markdown",
   "metadata": {},
   "source": [
    "12. Uma fruteira está vendendo frutas com a seguinte tabela de preços:\n",
    " Até 5 Kg Acima de 5 Kg\n",
    "Morango R$ 2,50 por Kg R$ 2,20 por Kg\n",
    "Maçã R$ 1,80 por Kg R$ 1,50 por Kg\n",
    "Se o cliente comprar mais de 8 Kg em frutas ou o valor total da compra ultrapassar\n",
    "R$ 25,00, receberá ainda um desconto de 10% sobre este total. Escreva um\n",
    "algoritmo para ler a quantidade (em Kg) de morangos e a quantidade (em Kg) de\n",
    "maças adquiridas e escreva o valor a ser pago pelo cliente."
   ]
  },
  {
   "cell_type": "code",
   "execution_count": null,
   "metadata": {},
   "outputs": [],
   "source": [
    "qtd_km_maca = float(input(\"digite: \"))\n",
    "qtd_morango = float(input(\"digite: \"))\n",
    "if ()"
   ]
  },
  {
   "cell_type": "markdown",
   "metadata": {},
   "source": [
    "## 13. Faça um programa que leia e valide as seguintes informações:\n",
    "Nome: maior que 3 caracteres;\n",
    "Idade: entre 0 e 150;"
   ]
  },
  {
   "cell_type": "code",
   "execution_count": 17,
   "metadata": {},
   "outputs": [
    {
     "name": "stdout",
     "output_type": "stream",
     "text": [
      "Nome: dsad\n",
      "idade: 24324\n",
      "Salario-7\n",
      "sexop\n",
      "digiten\n",
      "Idade invaida\n",
      "salario tem de ser maior que 0\n",
      "difite o sexo de acordo\n",
      "formato invalido\n"
     ]
    }
   ],
   "source": [
    "nome =  input(\"Nome: \")\n",
    "idade = int(input(\"idade: \"))\n",
    "salario = float(input(\"Salario\"))\n",
    "sexo = input(\"sexo\")\n",
    "estado = input(\"digite\")\n",
    "if len(nome) < 3:\n",
    "    print(\"Escreva um nome maior\")\n",
    "if idade >= 150 or idade <= 0:\n",
    "    print(\"Idade invaida\")\n",
    "if salario < 0:\n",
    "    print(\"salario tem de ser maior que 0\")\n",
    "if sexo != 'm' or sexo != 'f':\n",
    "    print('difite o sexo de acordo')\n",
    "if (estado != 's' or estado != 'c' or estado != 'v' or estado != 'd'):\n",
    "    print(\"formato invalido\")"
   ]
  },
  {
   "cell_type": "markdown",
   "metadata": {},
   "source": [
    "## 14. Faça um programa que leia 5 números e informe o maior número."
   ]
  },
  {
   "cell_type": "code",
   "execution_count": 5,
   "metadata": {},
   "outputs": [
    {
     "name": "stdout",
     "output_type": "stream",
     "text": [
      "digite95623\n",
      "digite2\n",
      "digite1\n",
      "digite5\n",
      "digite4\n",
      "Maior numero é : 95623\n"
     ]
    },
    {
     "data": {
      "text/plain": [
       "[95623, 2, 1, 5, 4]"
      ]
     },
     "execution_count": 5,
     "metadata": {},
     "output_type": "execute_result"
    }
   ],
   "source": [
    "lista = []\n",
    "while True:\n",
    "    n = int(input(\"digite\"))\n",
    "    lista.append(n)\n",
    "    if len(lista) == 5:\n",
    "        break\n",
    "        \n",
    "print('Maior numero é :',max(lista))"
   ]
  },
  {
   "cell_type": "markdown",
   "metadata": {},
   "source": [
    "## 15. Faça um programa que leia 5 números e informe a soma e a média dos números."
   ]
  },
  {
   "cell_type": "code",
   "execution_count": 6,
   "metadata": {},
   "outputs": [
    {
     "name": "stdout",
     "output_type": "stream",
     "text": [
      "digite4\n",
      "digite5\n",
      "digite1\n",
      "digite2\n",
      "digite1\n",
      "Soma:  12  \n",
      "Media:  2.4\n"
     ]
    }
   ],
   "source": [
    "lista = []\n",
    "soma = 0\n",
    "while True:\n",
    "    n = int(input(\"digite\"))\n",
    "    lista.append(n)\n",
    "    if len(lista) == 5:\n",
    "        break\n",
    "    soma += n\n",
    "media = soma/5\n",
    "print('Soma: ',soma,' \\nMedia: ',media)\n"
   ]
  },
  {
   "cell_type": "markdown",
   "metadata": {},
   "source": [
    "## 16. Faça um programa que imprima na tela apenas os números ímpares entre 1 e 50."
   ]
  },
  {
   "cell_type": "code",
   "execution_count": 8,
   "metadata": {},
   "outputs": [
    {
     "name": "stdout",
     "output_type": "stream",
     "text": [
      "1\n",
      "3\n",
      "5\n",
      "7\n",
      "9\n",
      "11\n",
      "13\n",
      "15\n",
      "17\n",
      "19\n",
      "21\n",
      "23\n",
      "25\n",
      "27\n",
      "29\n",
      "31\n",
      "33\n",
      "35\n",
      "37\n",
      "39\n",
      "41\n",
      "43\n",
      "45\n",
      "47\n",
      "49\n"
     ]
    }
   ],
   "source": [
    "for i in range(0,50):\n",
    "    if i%2!=0:\n",
    "        print(i)"
   ]
  },
  {
   "cell_type": "markdown",
   "metadata": {},
   "source": [
    "## 17. Desenvolva um gerador de tabuada, capaz de gerar a tabuada de qualquer\n",
    "número inteiro entre 1 a 10. O usuário deve informar de qual numero ele deseja ver\n",
    "a tabuada. A saída deve ser conforme o exemplo abaixo:\n",
    "Tabuada de 5:\n",
    "5 X 1 = 5\n",
    "5 X 2 = 10\n",
    "...\n",
    "5 X 10 = 50"
   ]
  },
  {
   "cell_type": "code",
   "execution_count": 17,
   "metadata": {},
   "outputs": [
    {
     "name": "stdout",
     "output_type": "stream",
     "text": [
      "digite: 4\n",
      "4  x  0  =  0\n",
      "4  x  1  =  4\n",
      "4  x  2  =  8\n",
      "4  x  3  =  12\n",
      "4  x  4  =  16\n",
      "4  x  5  =  20\n",
      "4  x  6  =  24\n",
      "4  x  7  =  28\n",
      "4  x  8  =  32\n",
      "4  x  9  =  36\n",
      "4  x  10  =  40\n"
     ]
    }
   ],
   "source": [
    "n =  int(input('digite: '))\n",
    "for i in range(0,11):\n",
    "     \n",
    "    print(n,' x ',i,' = ',n*i)"
   ]
  },
  {
   "cell_type": "markdown",
   "metadata": {},
   "source": [
    "## 18. A série de Fibonacci é formada pela seqüência 1,1,2,3,5,8,13,21,34,55,... Faça um\n",
    "programa capaz de gerar a série até o n−ésimo termo."
   ]
  },
  {
   "cell_type": "code",
   "execution_count": 3,
   "metadata": {},
   "outputs": [
    {
     "name": "stdout",
     "output_type": "stream",
     "text": [
      "digite10\n"
     ]
    },
    {
     "data": {
      "text/plain": [
       "[1, 1, 2, 3, 5, 8, 13, 21, 34, 55]"
      ]
     },
     "execution_count": 3,
     "metadata": {},
     "output_type": "execute_result"
    }
   ],
   "source": [
    "i = 1\n",
    "pos = 0\n",
    "n = int(input('digite'))\n",
    "n = n-2\n",
    "lista = [1,1]\n",
    "while pos < n:\n",
    "    aux = lista[i] + lista[pos]\n",
    "    lista.append(aux)\n",
    "    pos += 1   \n",
    "    aux = 0\n",
    "    i += 1\n",
    "lista\n",
    "    "
   ]
  },
  {
   "cell_type": "markdown",
   "metadata": {},
   "source": [
    "## 20. O Sr. Manoel Joaquim possui uma grande loja de artigos de R$ 1,99, com cerca\n",
    "de 10 caixas. Para agilizar o cálculo de quanto cada cliente deve pagar ele\n",
    "desenvolveu um tabela que contém o número de itens que o cliente comprou e ao\n",
    "lado o valor da conta. Desta forma a atendente do caixa precisa apenas contar\n",
    "quantos itens o cliente está levando e olhar na tabela de preços. Você foi contratado\n",
    "para desenvolver o programa que monta esta tabela de preços, que conterá os\n",
    "preços de 1 até 50 produtos, conforme o exemplo abaixo:\n",
    "Lojas Quase Dois - Tabela de preços\n",
    "1 - R$ 1.99\n",
    "2 - R$ 3.98\n",
    "...\n",
    "50 - R$ 99.50"
   ]
  },
  {
   "cell_type": "code",
   "execution_count": 6,
   "metadata": {},
   "outputs": [
    {
     "name": "stdout",
     "output_type": "stream",
     "text": [
      "Digite5\n"
     ]
    },
    {
     "data": {
      "text/plain": [
       "9.95"
      ]
     },
     "execution_count": 6,
     "metadata": {},
     "output_type": "execute_result"
    }
   ],
   "source": [
    "n = int(input(\"Digite\"));\n",
    "#gerar tabeela de precos\n",
    "tabela = {}\n",
    "for i in range(51):\n",
    "    soma = 0\n",
    "    soma = 1.99*i\n",
    "    tabela[i] =  soma\n",
    "tabela[n]"
   ]
  },
  {
   "cell_type": "markdown",
   "metadata": {},
   "source": [
    "## 21. O Sr. Manoel Joaquim acaba de adquirir uma panificadora e pretende implantar\n",
    "a metodologia da tabelinha, que já é um sucesso na sua loja de 1,99. Você foi\n",
    "contratado para desenvolver o programa que monta a tabela de preços de pães, de\n",
    "1 até 50 pães, a partir do preço do pão informado pelo usuário, conforme o exemplo\n",
    "abaixo:\n",
    "Preço do pão: R$ 0.18\n",
    "Panificadora Pão de Ontem - Tabela de preços\n",
    "1 - R$ 0.18\n",
    "2 - R$ 0.36\n",
    "...\n",
    "50 - R$ 9.00"
   ]
  },
  {
   "cell_type": "code",
   "execution_count": 10,
   "metadata": {},
   "outputs": [
    {
     "name": "stdout",
     "output_type": "stream",
     "text": [
      "Digite45\n",
      "89.55\n",
      "O preco é:  89.55\n",
      "91.54\n",
      "93.53\n",
      "95.52\n",
      "97.51\n",
      "99.5\n"
     ]
    }
   ],
   "source": [
    "n = int(input(\"Digite\"));\n",
    "#gerar tabeela de precos\n",
    "tabela = {}\n",
    "for i in range(51):\n",
    "    soma = 0\n",
    "    soma = 1.99*i\n",
    "    tabela[i] =  soma\n",
    "    if n <= i:\n",
    "        print(tabela[i])\n",
    "    if n == i:\n",
    "        print(\"O preco é: \",tabela[i])"
   ]
  },
  {
   "cell_type": "markdown",
   "metadata": {},
   "source": [
    "## 22. O Sr. Manoel Joaquim expandiu seus negócios para além dos negócios de 1,99 e\n",
    "agora possui uma loja de conveniências. Faça um programa que implemente uma\n",
    "caixa registradora rudimentar. O programa deverá receber um número\n",
    "desconhecido de valores referentes aos preços das mercadorias. Um valor zero deve\n",
    "ser informado pelo operador para indicar o final da compra. O programa deve então\n",
    "mostrar o total da compra e perguntar o valor em dinheiro que o cliente forneceu,\n",
    "para então calcular e mostrar o valor do troco. Após esta operação, o programa\n",
    "deverá voltar ao ponto inicial, para registrar a próxima compra. A saída deve ser\n",
    "conforme o exemplo abaixo:\n",
    "Lojas Tabajara\n",
    "Produto 1: R$ 2.20\n",
    "Produto 2: R$ 5.80\n",
    "Produto 3: R$ 0\n",
    "Total: R$ 9.00\n",
    "Dinheiro: R$ 20.00\n",
    "Troco: R$ 11.00\n"
   ]
  },
  {
   "cell_type": "code",
   "execution_count": 28,
   "metadata": {},
   "outputs": [
    {
     "name": "stdout",
     "output_type": "stream",
     "text": [
      "Digite45\n",
      "Produto  1 : 45\n",
      "Digite5\n",
      "Produto  2 : 5\n",
      "Digite0\n",
      "Produto  3 : 0\n",
      "digite o seu dinheiro: 100\n",
      "Seu troco é:  50\n"
     ]
    }
   ],
   "source": [
    "n=1\n",
    "i = 0\n",
    "dinheiro = 0\n",
    "troco = 0\n",
    "total = 0\n",
    "while True:\n",
    "    \n",
    "    while n != 0:\n",
    "        i+=1\n",
    "        n = int(input(\"Digite\"))\n",
    "        preco = n\n",
    "        print(\"Produto \",i,\":\",preco)\n",
    "        total += preco\n",
    "    dinheiro = int(input(\"digite o seu dinheiro: \"))\n",
    "    troco = dinheiro-total\n",
    "    print(\"Seu troco é: \", troco)\n",
    "    break"
   ]
  },
  {
   "cell_type": "markdown",
   "metadata": {},
   "source": [
    "## 23. Foi feita uma estatística em cinco cidades brasileiras para coletar dados sobre\n",
    "acidentes de trânsito. Foram obtidos os seguintes dados:\n",
    "- Código da cidade;\n",
    "- Número de veículos de passeio (em 1999);\n",
    "- Número de acidentes de trânsito com vítimas (em 1999). Deseja-se saber:\n",
    "- Qual o maior e menor índice de acidentes de transito e a que cidade pertence;\n",
    "- Qual a média de veículos nas cinco cidades juntas;\n",
    "- Qual a média de acidentes de trânsito nas cidades com menos de 2.000 veículos de\n",
    "passeio."
   ]
  },
  {
   "cell_type": "code",
   "execution_count": 30,
   "metadata": {},
   "outputs": [
    {
     "name": "stdout",
     "output_type": "stream",
     "text": [
      "Digite o nome da cidade: sp\n",
      "DIgite o codigo da cidade: 1\n",
      "Numero de veiculos de passeio: 3225\n",
      "Numero de acidentes de transito com vitimas: 544\n",
      "Digite o nome da cidade: ib\n",
      "DIgite o codigo da cidade: 2\n",
      "Numero de veiculos de passeio: 89486\n",
      "Numero de acidentes de transito com vitimas: 356\n",
      "Digite o nome da cidade: 5\n",
      "DIgite o codigo da cidade: 5\n",
      "Numero de veiculos de passeio: \n"
     ]
    },
    {
     "ename": "ValueError",
     "evalue": "invalid literal for int() with base 10: ''",
     "output_type": "error",
     "traceback": [
      "\u001b[1;31m---------------------------------------------------------------------------\u001b[0m",
      "\u001b[1;31mValueError\u001b[0m                                Traceback (most recent call last)",
      "\u001b[1;32m<ipython-input-30-94958aa1c783>\u001b[0m in \u001b[0;36m<module>\u001b[1;34m\u001b[0m\n\u001b[0;32m      5\u001b[0m     \u001b[0mcidade\u001b[0m \u001b[1;33m=\u001b[0m \u001b[0minput\u001b[0m\u001b[1;33m(\u001b[0m\u001b[1;34m\"Digite o nome da cidade: \"\u001b[0m\u001b[1;33m)\u001b[0m\u001b[1;33m\u001b[0m\u001b[1;33m\u001b[0m\u001b[0m\n\u001b[0;32m      6\u001b[0m     \u001b[0mcodigo\u001b[0m \u001b[1;33m=\u001b[0m \u001b[0mint\u001b[0m\u001b[1;33m(\u001b[0m\u001b[0minput\u001b[0m\u001b[1;33m(\u001b[0m\u001b[1;34m\"DIgite o codigo da cidade: \"\u001b[0m\u001b[1;33m)\u001b[0m\u001b[1;33m)\u001b[0m\u001b[1;33m\u001b[0m\u001b[1;33m\u001b[0m\u001b[0m\n\u001b[1;32m----> 7\u001b[1;33m     \u001b[0mveiculos\u001b[0m \u001b[1;33m=\u001b[0m \u001b[0mint\u001b[0m\u001b[1;33m(\u001b[0m\u001b[0minput\u001b[0m\u001b[1;33m(\u001b[0m\u001b[1;34m\"Numero de veiculos de passeio: \"\u001b[0m\u001b[1;33m)\u001b[0m\u001b[1;33m)\u001b[0m\u001b[1;33m\u001b[0m\u001b[1;33m\u001b[0m\u001b[0m\n\u001b[0m\u001b[0;32m      8\u001b[0m     \u001b[0macidentes\u001b[0m \u001b[1;33m=\u001b[0m \u001b[0mint\u001b[0m\u001b[1;33m(\u001b[0m\u001b[0minput\u001b[0m\u001b[1;33m(\u001b[0m\u001b[1;34m\"Numero de acidentes de transito com vitimas: \"\u001b[0m\u001b[1;33m)\u001b[0m\u001b[1;33m)\u001b[0m\u001b[1;33m\u001b[0m\u001b[1;33m\u001b[0m\u001b[0m\n\u001b[0;32m      9\u001b[0m     \u001b[0mcount\u001b[0m\u001b[1;33m+=\u001b[0m\u001b[1;36m1\u001b[0m\u001b[1;33m\u001b[0m\u001b[1;33m\u001b[0m\u001b[0m\n",
      "\u001b[1;31mValueError\u001b[0m: invalid literal for int() with base 10: ''"
     ]
    }
   ],
   "source": [
    "maior = menor = count = soma = soma2 = soma3 = soma4 =0\n",
    "cid = ''\n",
    "cid2 = ''\n",
    "for c in range(1,6):\n",
    "    cidade = input(\"Digite o nome da cidade: \")\n",
    "    codigo = int(input(\"DIgite o codigo da cidade: \"))\n",
    "    veiculos = int(input(\"Numero de veiculos de passeio: \"))\n",
    "    acidentes = int(input(\"Numero de acidentes de transito com vitimas: \"))\n",
    "    count+=1\n",
    "    soma+= veiculos\n",
    "    soma2 = soma / count\n",
    "    soma3+=acidentes\n",
    "\n",
    "    if acidentes > maior:\n",
    "        maior = acidentes\n",
    "        cid = cidade\n",
    "    if count == 1 or acidentes < menor:\n",
    "        menor = acidentes\n",
    "        cid2 = cidade\n",
    "    if veiculos < 2000:\n",
    "        soma4 = soma3 / count\n",
    "\n",
    "print(\"-=\"*30)\n",
    "print(f\"O menor indice de acidentes de transito {menor} cidade que pertence {cid2}\")\n",
    "print(f\"O maior indice de acidenstes de transito {maior} cidade que pertence {cid}\")\n",
    "print(f\"Media de veiculos nas cincos cidades {soma2}\")\n",
    "print(f\"Media de acidentes de transitos nas cidades com menos de 2000 {soma4}\") "
   ]
  },
  {
   "cell_type": "markdown",
   "metadata": {},
   "source": [
    "## 24. Faça um programa que receba o valor de uma dívida e mostre uma tabela com\n",
    "os seguintes dados: valor da dívida, valor dos juros, quantidade de parcelas e valor\n",
    "da parcela.\n",
    "Os juros e a quantidade de parcelas seguem a tabela abaixo:\n",
    "Quantidade de Parcelas % de Juros sobre o valor inicial da dívida\n",
    "1 0\n",
    "3 10\n",
    "6 15\n",
    "9 20\n",
    "12 25"
   ]
  },
  {
   "cell_type": "code",
   "execution_count": 31,
   "metadata": {},
   "outputs": [
    {
     "name": "stdout",
     "output_type": "stream",
     "text": [
      "\n",
      "\n",
      "\n",
      "\n",
      "\n",
      "\n",
      "Digite o valor da divida: 10\n",
      "\n",
      "\n",
      "\n",
      "\n",
      "\n",
      "\n",
      "Valor da divida:   Valor do juros:   Quantidade de parcelas:   Valor da parcela: \n",
      "R$ 10.0            0.0                  1                        R$  10.0\n",
      "R$ 11.0            1.0                  3                        R$  3.67\n",
      "R$ 11.5            1.5                  6                        R$  1.92\n",
      "R$ 12.0            2.0                  9                        R$  1.33\n",
      "R$ 12.5            2.5                  12                        R$  1.04\n"
     ]
    }
   ],
   "source": [
    "print(\"\\n\" * 5)\n",
    "divida = float(input(\"Digite o valor da divida: \"))\n",
    "parcela = 1\n",
    "print(\"\\n\" * 5)\n",
    "print(\"Valor da divida: \", end=\"  \")\n",
    "print(\"Valor do juros: \", end=\"  \")\n",
    "print(\"Quantidade de parcelas: \", end=\"  \")\n",
    "print(\"Valor da parcela: \")\n",
    "\n",
    "for i in range(5):\n",
    "    if parcela == 1:\n",
    "        juros = 1\n",
    "        valor_juros = 0\n",
    "    elif parcela == 4:\n",
    "        parcela = 3\n",
    "        juros = 1.10\n",
    "    elif parcela == 7 or parcela == 6:\n",
    "        parcela = 6\n",
    "        juros = 1.15\n",
    "    elif parcela == 10 or parcela == 9:\n",
    "        parcela = 9\n",
    "        juros = 1.20\n",
    "    elif parcela == 13 or parcela == 12:\n",
    "        parcela = 12\n",
    "        juros = 1.25\n",
    "\n",
    "    valor_juros = divida * (juros - 1)\n",
    "    divida_com_juros = divida * juros\n",
    "    valor_parcela = divida_com_juros / parcela\n",
    "\n",
    "    print(\"R$\", round(divida_com_juros, 2), end=\"            \")\n",
    "    print(round(valor_juros, 2), end=\"                  \")\n",
    "    print(parcela, end=\"                        \")\n",
    "    print(\"R$ \", round(valor_parcela, 2))\n",
    "    parcela += 3"
   ]
  },
  {
   "cell_type": "markdown",
   "metadata": {},
   "source": [
    "## 25. Faça um programa que mostre os n termos da Série a seguir:\n",
    " S = 1/1 + 2/3 + 3/5 + 4/7 + 5/9 + ... + n/m.\n",
    "Imprima no final a soma da série."
   ]
  },
  {
   "cell_type": "code",
   "execution_count": 32,
   "metadata": {},
   "outputs": [
    {
     "name": "stdout",
     "output_type": "stream",
     "text": [
      "S = 1 / 1  + 2 / 3  + 3 / 5  + 4 / 7  + 5 / 9  + 6 / 11  + 7 / 13  + 8 / 15  + 9 / 17  + 10 / 19  =  45 / 81\n"
     ]
    }
   ],
   "source": [
    "n1 = 1\n",
    "n2 = 1\n",
    "n1_lista = []\n",
    "n2_lista = []\n",
    "print(\"S = \", end = \"\")\n",
    "while n1 <= 10 -1:\n",
    "    print(n1, \"/\", n2, \" + \", end=\"\")\n",
    "    n1_lista.append(n1)\n",
    "    n2_lista.append(n2)\n",
    "    n1 += 1\n",
    "    n2 += 2\n",
    "\n",
    "print(n1, \"/\", n2, \" = \", sum(n1_lista), \"/\", sum(n2_lista))"
   ]
  },
  {
   "cell_type": "code",
   "execution_count": null,
   "metadata": {},
   "outputs": [],
   "source": []
  }
 ],
 "metadata": {
  "kernelspec": {
   "display_name": "Python 3",
   "language": "python",
   "name": "python3"
  },
  "language_info": {
   "codemirror_mode": {
    "name": "ipython",
    "version": 3
   },
   "file_extension": ".py",
   "mimetype": "text/x-python",
   "name": "python",
   "nbconvert_exporter": "python",
   "pygments_lexer": "ipython3",
   "version": "3.7.1"
  }
 },
 "nbformat": 4,
 "nbformat_minor": 2
}
