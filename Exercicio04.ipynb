{
 "cells": [
  {
   "cell_type": "markdown",
   "metadata": {},
   "source": [
    "# Shalom fernando 81716247"
   ]
  },
  {
   "cell_type": "markdown",
   "metadata": {},
   "source": [
    "## 1 Menor de dois pares: Escreva uma função que retorne o menor de dois números\n",
    "dados se ambos os números forem pares, mas retorna o maior se um dos dois for\n",
    "ímpar. Exemplo:"
   ]
  },
  {
   "cell_type": "code",
   "execution_count": 19,
   "metadata": {},
   "outputs": [
    {
     "name": "stdout",
     "output_type": "stream",
     "text": [
      "1\n"
     ]
    }
   ],
   "source": [
    "def maior(v1,v2):\n",
    "    if v1%2==0 and v2%2==0:\n",
    "        if v2>v1:\n",
    "            return v2\n",
    "        else:\n",
    "            return v1\n",
    "        \n",
    "    if v2%2==0 or v1%2==0 or v2%2==1 or v1%2==1  :\n",
    "        if v1%2!=1:\n",
    "            return v2\n",
    "        else:\n",
    "            return v1\n",
    "print(maior(1,4))\n",
    "    "
   ]
  },
  {
   "cell_type": "markdown",
   "metadata": {},
   "source": [
    "## 2 Mesma letra: Escreva uma função que receba uma string com duas palavras e\n",
    "retorne True se ambas palavras começarem com a mesma letra. Exemplo:\n",
    "mesma_letra('Cão covarde') -> True\n",
    "mesma_letra('Vira Lata') -> False"
   ]
  },
  {
   "cell_type": "code",
   "execution_count": 31,
   "metadata": {},
   "outputs": [
    {
     "name": "stdout",
     "output_type": "stream",
     "text": [
      "True\n"
     ]
    }
   ],
   "source": [
    "def String_sw(a):\n",
    "    vet=(a.split(\" \"));\n",
    "    ac = vet[0]\n",
    "    ab = vet[1]\n",
    "    if ac[0]==ab[0]:\n",
    "        return True\n",
    "    else:\n",
    "        return False\n",
    "\n",
    "print(String_sw(\"shalom sh\"))\n",
    "    "
   ]
  },
  {
   "cell_type": "markdown",
   "metadata": {},
   "source": [
    "## 3 Mestre Yoda: Dada uma sentença, a função deve retornar a sentença com as\n",
    "palavras na ordem reversa. Exemplo:\n",
    "mestre_yoda('Eu estou em casa') --> 'casa em estou Eu'\n",
    "mestre_yoda('Estamos prontos') --> 'prontos Estamos'"
   ]
  },
  {
   "cell_type": "code",
   "execution_count": 46,
   "metadata": {},
   "outputs": [
    {
     "name": "stdout",
     "output_type": "stream",
     "text": [
      "['d', 'sh', 'shalom']\n"
     ]
    }
   ],
   "source": [
    "def mestre_yoda(a):\n",
    "    vet=(a.split(\" \"));\n",
    "    v = len(vet)\n",
    "    aux = []\n",
    "    for i in vet:\n",
    "        aux.append( vet[v-1])\n",
    "        v -=1\n",
    "    return aux\n",
    "            \n",
    "        \n",
    "        \n",
    "    \n",
    "\n",
    "print(mestre_yoda(\"shalom sh d\"))\n",
    "    "
   ]
  },
  {
   "cell_type": "markdown",
   "metadata": {},
   "source": [
    "## 4 Tem 33: Faça uma função que retorne True se, dada uma lista de inteiros, houver\n",
    "em alguma posição da lista um 3 do lado de outro 3. Exemplo:\n",
    "tem_33([1,3,3]) --> True\n",
    "tem_33([1,3,1,3]) --> False\n",
    "tem_33([3,1,3]) --> False"
   ]
  },
  {
   "cell_type": "code",
   "execution_count": 61,
   "metadata": {},
   "outputs": [
    {
     "data": {
      "text/plain": [
       "False"
      ]
     },
     "execution_count": 61,
     "metadata": {},
     "output_type": "execute_result"
    }
   ],
   "source": [
    "def tem_33(*n):\n",
    "    f = len(n)-1\n",
    "    for e,i in enumerate(n):\n",
    "        if e < f:\n",
    "            if(n[e]== n[e+1] and n[e]== 3 and n[e+1]==3  ):\n",
    "                return True\n",
    "            \n",
    "    else:\n",
    "        return False\n",
    "\n",
    "tem_33(3,2,1,3,0,2)"
   ]
  },
  {
   "cell_type": "markdown",
   "metadata": {},
   "source": [
    "## 5 Blackjack: Faça uma função que receba 3 inteiros entre 1 e 11. Se a soma deles for\n",
    "menor que 21, retorne o valor da soma. Se for mair do que 21 e houver um 11,\n",
    "subtraia 10 da soma antes de apresentar o resultado. Se o valor da soma passar de\n",
    "21, retorne ‘ESTOUROU’. Exemplo:\n",
    "blackjack(5,6,7) --> 18\n",
    "blackjack(9,9,9) --> 'ESTOUROU'\n",
    "blackjack(9,9,11) --> 19"
   ]
  },
  {
   "cell_type": "code",
   "execution_count": 73,
   "metadata": {},
   "outputs": [
    {
     "data": {
      "text/plain": [
       "19"
      ]
     },
     "execution_count": 73,
     "metadata": {},
     "output_type": "execute_result"
    }
   ],
   "source": [
    "def blackjack(n1,n2,n3):\n",
    "    soma = n1+n2+n3\n",
    "    if soma > 21 :\n",
    "        if n1 ==11:\n",
    "            n1 = 1\n",
    "        if n2 ==11:\n",
    "            n2 = 1\n",
    "        if n3 ==11:\n",
    "            n3 = 1\n",
    "        soma = n1+n2+n3\n",
    "        return soma \n",
    "    if soma < 21:\n",
    "        return soma\n",
    "    else :\n",
    "        return \"Estorou\"\n",
    "blackjack(9,9,11)   \n",
    "    "
   ]
  },
  {
   "cell_type": "markdown",
   "metadata": {},
   "source": [
    "6 Espião: Escreva uma função que receba uma lista de\n",
    "inteiros e retorne True se contém um 007 em ordem, mesmo\n",
    "que não contínuo. Exemplo:\n",
    "espiao([1,2,4,0,0,7,5]) --> True\n",
    "espiao([1,0,2,4,0,5,7]) --> True\n",
    "espiao([1,7,2,4,0,5,0]) --> False"
   ]
  },
  {
   "cell_type": "code",
   "execution_count": 68,
   "metadata": {},
   "outputs": [
    {
     "data": {
      "text/plain": [
       "True"
      ]
     },
     "execution_count": 68,
     "metadata": {},
     "output_type": "execute_result"
    }
   ],
   "source": [
    "def espiao(*n):\n",
    "    m = [0,0,7]\n",
    "    x = 0\n",
    "    cont = 0\n",
    "    for e,i in enumerate(n):\n",
    "        if m[cont] == i:\n",
    "            cont+=1\n",
    "            x+=1;\n",
    "            if x == 3:\n",
    "                \n",
    "                return True\n",
    "            \n",
    "    else:\n",
    "        return False\n",
    "\n",
    "espiao(0,2,0,7)\n"
   ]
  },
  {
   "cell_type": "code",
   "execution_count": null,
   "metadata": {},
   "outputs": [],
   "source": []
  }
 ],
 "metadata": {
  "kernelspec": {
   "display_name": "Python 3",
   "language": "python",
   "name": "python3"
  },
  "language_info": {
   "codemirror_mode": {
    "name": "ipython",
    "version": 3
   },
   "file_extension": ".py",
   "mimetype": "text/x-python",
   "name": "python",
   "nbconvert_exporter": "python",
   "pygments_lexer": "ipython3",
   "version": "3.7.1"
  }
 },
 "nbformat": 4,
 "nbformat_minor": 2
}
