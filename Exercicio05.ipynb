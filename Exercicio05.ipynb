{
 "cells": [
  {
   "cell_type": "markdown",
   "metadata": {},
   "source": [
    "# Shalom fernando 81716247"
   ]
  },
  {
   "cell_type": "markdown",
   "metadata": {},
   "source": [
    "## 1 Linha: Crie a classe Linha que tem dois atributos, coordenada1 e coordenada2.\n",
    "Cada coordenada é uma tupla que carrega duas coordenadas cartesianas (x,y) que\n",
    "denotam pontos do segmento de reta. Faça métodos que calculem o comprimento\n",
    "do segmento de reta e sua inclinação."
   ]
  },
  {
   "cell_type": "code",
   "execution_count": 16,
   "metadata": {},
   "outputs": [],
   "source": [
    "class Linha:\n",
    "    coodenada1 = ()\n",
    "    coodenada2 = ()\n",
    "    def __init__ (self,coodenada1,coodenada2):\n",
    "        self.coodenada1 = coodenada1\n",
    "        self.coodenada2 = coodenada2\n",
    "    \n",
    "    def comprimentoSR(self):\n",
    "        xA = self.coodenada1[0]\n",
    "        xB = self.coodenada1[1]\n",
    "        yA = self.coodenada2[0]\n",
    "        yB = self.coodenada2[1]\n",
    "        \n",
    "        xM = (xA + yA) / 2\n",
    "        yM = (xB + yB) / 2\n",
    "        return print(xM,\",\",yM)\n",
    "    \n",
    "    \n",
    "        "
   ]
  },
  {
   "cell_type": "code",
   "execution_count": 17,
   "metadata": {},
   "outputs": [
    {
     "name": "stdout",
     "output_type": "stream",
     "text": [
      "4.0 , 0.0\n"
     ]
    }
   ],
   "source": [
    "l = Linha((5,4),(3,-4))\n",
    "l.comprimentoSR()"
   ]
  },
  {
   "cell_type": "markdown",
   "metadata": {},
   "source": [
    "## 2 Figuras: Crie a seguinte hierarquia de classes de figuras geométricas. Veja na figura\n",
    "as fórmulas:\n",
    "a. A classe abstrata Figura deve ter o método abstrato area.\n",
    "b. A classe concreta Circulo é subclasse de Figura.\n",
    "c. A classe abstrata Poligono é subclasse de Figura e deve ter os atributos base e\n",
    "altura .\n",
    "d. As classes concretas Triangulo, Losango, Retangulo e Quadrado são subclasses\n",
    "de Poligono. Tente criar mais uma generalização aqui olhando as fórmulas da área.\n",
    "e. Os polígonos Retangulo e Quadrado devem implementar a interface Diagonal,\n",
    "que deve ter um método que calcula a diagonal.\n",
    "f. Crie uma classe Geometria com uma lista de Figuras com pelo menos uma\n",
    "figura de cada e imprima suas áreas, perímetros e diagonais."
   ]
  },
  {
   "cell_type": "code",
   "execution_count": 4,
   "metadata": {},
   "outputs": [
    {
     "name": "stdout",
     "output_type": "stream",
     "text": [
      "<class '__main__.Circulo'>\n",
      "Área:  314.1592653589793\n",
      "Perímetro: 62.83185307179586\n",
      "\n",
      "<class '__main__.Triangulo'>\n",
      "Área:  25.0\n",
      "Perímetro: None\n",
      "\n",
      "<class '__main__.Losango'>\n",
      "Área:  36.0\n",
      "Perímetro: 36\n",
      "\n",
      "<class '__main__.Retangulo'>\n",
      "Área:  128\n",
      "Perímetro: 48\n",
      "\n",
      "<class '__main__.Quadrado'>\n",
      "Área:  16\n",
      "Perímetro: 16\n",
      "\n"
     ]
    }
   ],
   "source": [
    "from abc import ABC, abstractmethod\n",
    "import math\n",
    "class Figura(ABC):\n",
    "    \n",
    "    def __init__(self):\n",
    "        super().__init__()\n",
    "    \n",
    "    @abstractmethod\n",
    "    def area(self):\n",
    "        pass\n",
    "    \n",
    "    @abstractmethod\n",
    "    def perimetro(self):\n",
    "        pass\n",
    "    \n",
    "class Circulo(Figura):\n",
    "    \n",
    "    def __init__(self, raio):\n",
    "        self.raio = raio\n",
    "        Figura.__init__(self)\n",
    "        \n",
    "    def area(self):\n",
    "        return math.pi * (self.raio**2)\n",
    "    \n",
    "    def perimetro(self):\n",
    "        return 2 * math.pi * self.raio\n",
    "        \n",
    "class Poligono(Figura, ABC):\n",
    "    \n",
    "    def __init__(self, base, altura):\n",
    "        self.base = base\n",
    "        self.altura = altura\n",
    "        Figura.__init__(self)\n",
    "        \n",
    "class Diagonal(ABC):\n",
    "    \n",
    "    def __init__(self):\n",
    "        super().__init__()\n",
    "        \n",
    "    def diagonal(self):\n",
    "        return math.sqrt((self.base**2) + (self.altura**2))\n",
    "        \n",
    "class Triangulo(Poligono):\n",
    "    \n",
    "    def __init__(self, base, altura):\n",
    "        super().__init__(base, altura)\n",
    "        \n",
    "    def area(self):\n",
    "        return (self.base * self.altura) / 2\n",
    "    \n",
    "    def perimetro(self):\n",
    "        #precisa dos lados\n",
    "        pass\n",
    "        \n",
    "class Losango(Poligono, Diagonal):\n",
    "    \n",
    "    def __init__(self, base, altura):\n",
    "        Poligono.__init__(self, base, altura)\n",
    "        Diagonal.__init__(self)\n",
    "        \n",
    "    def area(self):\n",
    "        return (self.base * self.altura) / 2\n",
    "    \n",
    "    def perimetro(self):\n",
    "        return self.base*2 + self.altura*2\n",
    "        \n",
    "class Retangulo(Poligono, Diagonal):\n",
    "    \n",
    "    def __init__(self, base, altura):\n",
    "        Poligono.__init__(self, base, altura)\n",
    "        Diagonal.__init__(self)\n",
    "        \n",
    "    def area(self):\n",
    "        return self.base * self.altura\n",
    "                         \n",
    "    def diagonal(self):\n",
    "        return math.sqrt((self.base**2) + (self.altura**2))\n",
    "    \n",
    "    def perimetro(self):\n",
    "        return self.base*2 + self.altura*2\n",
    "        \n",
    "class Quadrado(Poligono):\n",
    "    \n",
    "    def __init__(self, base, altura):\n",
    "        super().__init__(base, altura)\n",
    "        \n",
    "    def area(self):\n",
    "        return self.base * self.altura\n",
    "    \n",
    "    def perimetro(self):\n",
    "        return self.base*2 + self.altura*2\n",
    "    \n",
    "class Geometria:\n",
    "    \n",
    "    def __init__(self):\n",
    "        self.figuras = [\n",
    "            Circulo(10),\n",
    "            Triangulo(5, 10),\n",
    "            Losango(6, 12),\n",
    "            Retangulo(16,8),\n",
    "            Quadrado(4, 4)\n",
    "        ]\n",
    "        \n",
    "geometria = Geometria()\n",
    "for figura in geometria.figuras:\n",
    "    print(type(figura))\n",
    "    print(\"Área: \", figura.area())\n",
    "    print(\"Perímetro: \" + str(figura.perimetro()) + \"\\n\")\n",
    "    \n",
    "    "
   ]
  },
  {
   "cell_type": "code",
   "execution_count": null,
   "metadata": {},
   "outputs": [],
   "source": []
  }
 ],
 "metadata": {
  "kernelspec": {
   "display_name": "Python 3",
   "language": "python",
   "name": "python3"
  },
  "language_info": {
   "codemirror_mode": {
    "name": "ipython",
    "version": 3
   },
   "file_extension": ".py",
   "mimetype": "text/x-python",
   "name": "python",
   "nbconvert_exporter": "python",
   "pygments_lexer": "ipython3",
   "version": "3.7.1"
  }
 },
 "nbformat": 4,
 "nbformat_minor": 2
}
