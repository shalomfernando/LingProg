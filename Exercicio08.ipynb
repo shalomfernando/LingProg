{
 "cells": [
  {
   "cell_type": "markdown",
   "metadata": {},
   "source": [
    "### Shalom Fernando\n",
    "RA: 81716247\n",
    "\n",
    "Os exercícios abaixo são os mesmos do notebook anterior. Agora você deve utilizar maybe monads para fazer o tratamento de exceções quando necessário. Continue fazendo testes unitários usando asserts"
   ]
  },
  {
   "cell_type": "code",
   "execution_count": 5,
   "metadata": {},
   "outputs": [],
   "source": [
    "def poc(fnc):\n",
    "    def inner(*args):\n",
    "        for a in args:\n",
    "            if isinstance(a, Exception):\n",
    "                return a\n",
    "        try:\n",
    "            return fnc(*args)\n",
    "        except Exception as e:\n",
    "            return e\n",
    "    return inner\n"
   ]
  },
  {
   "cell_type": "code",
   "execution_count": 7,
   "metadata": {},
   "outputs": [
    {
     "data": {
      "text/plain": [
       "15"
      ]
     },
     "execution_count": 7,
     "metadata": {},
     "output_type": "execute_result"
    }
   ],
   "source": [
    "soma_nat = poc(lambda n: n + soma_nat(n-1) if n > 1 else 1)\n",
    "\n",
    "assert(soma_nat(5) == 15)\n",
    "soma_nat(5)"
   ]
  },
  {
   "cell_type": "markdown",
   "metadata": {},
   "source": [
    "### 2 Defina a função div que recebe como argumentos dois números naturais m e n e devolve o resultado da divisão inteira de m por n. Neste exercício você não pode recorrer às operações aritméticas de multiplicação, divisão e resto da divisão inteira."
   ]
  },
  {
   "cell_type": "code",
   "execution_count": 9,
   "metadata": {},
   "outputs": [
    {
     "data": {
      "text/plain": [
       "3"
      ]
     },
     "execution_count": 9,
     "metadata": {},
     "output_type": "execute_result"
    }
   ],
   "source": [
    "div = poc(lambda m, n: 0 if m - n < 1 else 1 + div(m-n, n))\n",
    "\n",
    "assert(div(7,2) == 3)\n",
    "div(7,2)"
   ]
  },
  {
   "cell_type": "markdown",
   "metadata": {},
   "source": [
    "### 3 Defina a função prim_alg que recebe como argumento um número natural e devolve o primeiro algarismo (o mais significativo) na representação decimal de n."
   ]
  },
  {
   "cell_type": "code",
   "execution_count": 10,
   "metadata": {},
   "outputs": [
    {
     "data": {
      "text/plain": [
       "7"
      ]
     },
     "execution_count": 10,
     "metadata": {},
     "output_type": "execute_result"
    }
   ],
   "source": [
    "prim_alg = poc(lambda n: int(str(n)[0]))\n",
    "\n",
    "assert(prim_alg(5649) == 5)\n",
    "assert(prim_alg(7) == 7)\n",
    "prim_alg(7)"
   ]
  },
  {
   "cell_type": "markdown",
   "metadata": {},
   "source": [
    "### 4 Defina a função prod_lista que recebe como argumento uma lista de inteiros e devolve o produto dos seus elementos."
   ]
  },
  {
   "cell_type": "code",
   "execution_count": 12,
   "metadata": {},
   "outputs": [
    {
     "data": {
      "text/plain": [
       "720"
      ]
     },
     "execution_count": 12,
     "metadata": {},
     "output_type": "execute_result"
    }
   ],
   "source": [
    "\n",
    "prod_lista = poc(lambda n: n[0] * prod_lista(n[1:]) if len(n) > 1 else n[0])\n",
    "\n",
    "assert(prod_lista([1,2,3,4,5,6]) == 720)\n",
    "prod_lista([1,2,3,4,5,6])"
   ]
  },
  {
   "cell_type": "markdown",
   "metadata": {},
   "source": [
    "### 5 Defina a função contem_parQ que recebe como argumento uma lista de números inteiros w e devolve True se w contém um número par e False em caso contrário."
   ]
  },
  {
   "cell_type": "code",
   "execution_count": 13,
   "metadata": {},
   "outputs": [
    {
     "data": {
      "text/plain": [
       "True"
      ]
     },
     "execution_count": 13,
     "metadata": {},
     "output_type": "execute_result"
    }
   ],
   "source": [
    "contem_parQ = poc(lambda w: bool([1 for x in w if x % 2 == 0]))\n",
    "\n",
    "assert(contem_parQ([2,3,1,2,3]) == True)\n",
    "assert(contem_parQ([1,3,5,7]) == False)\n",
    "contem_parQ([2,3,1,2,3])"
   ]
  },
  {
   "cell_type": "markdown",
   "metadata": {},
   "source": [
    "### 6 Defina a função todos_imparesQ que recebe como argumento uma lista de números inteiros w e devolve True se w contém apenas números ímpares e False em caso contrário."
   ]
  },
  {
   "cell_type": "code",
   "execution_count": 15,
   "metadata": {},
   "outputs": [
    {
     "data": {
      "text/plain": [
       "False"
      ]
     },
     "execution_count": 15,
     "metadata": {},
     "output_type": "execute_result"
    }
   ],
   "source": [
    "todos_imparesQ = poc(lambda w: len(w) == sum([ 1 for x in w if x % 2 != 0]))\n",
    "\n",
    "assert(todos_imparesQ([1,3,5,7]) == True)\n",
    "assert(todos_imparesQ([]) == True)\n",
    "assert(todos_imparesQ([1,2,3,4,5]) == False)\n",
    "todos_imparesQ([1,2,3,4,5])"
   ]
  },
  {
   "cell_type": "markdown",
   "metadata": {},
   "source": [
    "### 8 Defina a função junta que recebe como argumentos duas listas de números inteiros w1 e w2 e devolve a concatenação de w1 com w2 ."
   ]
  },
  {
   "cell_type": "code",
   "execution_count": 22,
   "metadata": {},
   "outputs": [
    {
     "data": {
      "text/plain": [
       "[4, 5, 6]"
      ]
     },
     "execution_count": 22,
     "metadata": {},
     "output_type": "execute_result"
    }
   ],
   "source": [
    "junta = poc(lambda w1, w2: w1 + w2)\n",
    "\n",
    "assert(junta([1,2,3],[4,5,6]) == [1, 2, 3, 4, 5, 6])\n",
    "assert(junta([],[4,5,6]) == [4, 5, 6])\n",
    "assert(junta([1,2,3],[]) == [1, 2, 3])\n",
    "junta([],[4,5,6])"
   ]
  },
  {
   "cell_type": "markdown",
   "metadata": {},
   "source": [
    "### 7 Defina a função pertenceQ que recebe como argumentos uma lista de números inteiros w e um número inteiro n e devolve True se n ocorre em w e False em caso contrário."
   ]
  },
  {
   "cell_type": "code",
   "execution_count": 21,
   "metadata": {},
   "outputs": [
    {
     "data": {
      "text/plain": [
       "True"
      ]
     },
     "execution_count": 21,
     "metadata": {},
     "output_type": "execute_result"
    }
   ],
   "source": [
    "\n",
    "pertenceQ = poc(lambda w, n: n in w)\n",
    "\n",
    "assert(pertenceQ([1,2,3],1) == True)\n",
    "assert(pertenceQ([1,2,3],2) == True)\n",
    "assert(pertenceQ([1,2,3],3) == True)\n",
    "assert(pertenceQ([1,2,3],4) == False)\n",
    "pertenceQ([1,2,3],1)"
   ]
  },
  {
   "cell_type": "markdown",
   "metadata": {},
   "source": [
    "### 9 Defina a função temPrimoQ que recebe como argumento uma lista de listas de números inteiros w e devolve True se alguma das sublistas w tem um número primo e False em caso contrário."
   ]
  },
  {
   "cell_type": "code",
   "execution_count": 20,
   "metadata": {},
   "outputs": [
    {
     "data": {
      "text/plain": [
       "True"
      ]
     },
     "execution_count": 20,
     "metadata": {},
     "output_type": "execute_result"
    }
   ],
   "source": [
    "temPrimoQ = poc(lambda w: bool([1 for x in w for n in x if (\n",
    "    n % 2 != 0 and \n",
    "    n % 3 != 0 and \n",
    "    n % 5 != 0 and \n",
    "    n % 7 != 0 and n % 11 != 0\n",
    ") or n in [2,3,5,7,11]]))\n",
    "\n",
    "assert(temPrimoQ([[4,4,4,4],[5,4,6,7],[2,4,3]]) == True)\n",
    "assert(temPrimoQ([[4,4,4,4],[4,4,4],[],[4]]) == False)\n",
    "temPrimoQ([[4,4,4,4],[5,4,6,7],[2,4,3]])"
   ]
  },
  {
   "cell_type": "markdown",
   "metadata": {},
   "source": [
    "### 10 Defina a função inverteLista que recebe como argumento uma lista w e devolve a mesma lista mas invertida"
   ]
  },
  {
   "cell_type": "code",
   "execution_count": 19,
   "metadata": {},
   "outputs": [
    {
     "data": {
      "text/plain": [
       "[5, 4, 3, 2, 1]"
      ]
     },
     "execution_count": 19,
     "metadata": {},
     "output_type": "execute_result"
    }
   ],
   "source": [
    "inverteLista = poc(lambda w: w[::-1])\n",
    "\n",
    "assert(inverteLista([1,2,3,4,5]) == [5, 4, 3, 2, 1])\n",
    "assert(inverteLista([]) == [])\n",
    "inverteLista([1,2,3,4,5])"
   ]
  },
  {
   "cell_type": "code",
   "execution_count": null,
   "metadata": {},
   "outputs": [],
   "source": []
  }
 ],
 "metadata": {
  "kernelspec": {
   "display_name": "Python 3",
   "language": "python",
   "name": "python3"
  },
  "language_info": {
   "codemirror_mode": {
    "name": "ipython",
    "version": 3
   },
   "file_extension": ".py",
   "mimetype": "text/x-python",
   "name": "python",
   "nbconvert_exporter": "python",
   "pygments_lexer": "ipython3",
   "version": "3.7.3"
  }
 },
 "nbformat": 4,
 "nbformat_minor": 2
}
