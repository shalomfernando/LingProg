{
 "cells": [
  {
   "cell_type": "markdown",
   "metadata": {},
   "source": [
    "## Shalom Fernando\n",
    "#### RA: 81716247"
   ]
  },
  {
   "cell_type": "markdown",
   "metadata": {},
   "source": [
    "### 1 Implemente um gerador infinito de números primos"
   ]
  },
  {
   "cell_type": "code",
   "execution_count": null,
   "metadata": {},
   "outputs": [],
   "source": []
  },
  {
   "cell_type": "code",
   "execution_count": null,
   "metadata": {},
   "outputs": [],
   "source": [
    "import sys\n",
    "def gerar_primos():\n",
    "    primos = 1\n",
    "    yield primos\n",
    "    for numero in range(sys.maxsize**10):\n",
    "        for auxiliar in range(2, numero):\n",
    "            if numero % auxiliar == 0:\n",
    "                break\n",
    "        else:\n",
    "            primos = numero\n",
    "            print(primos)\n",
    "\n",
    "for i in gerar_primos():\n",
    "    print(i)"
   ]
  },
  {
   "cell_type": "markdown",
   "metadata": {},
   "source": [
    "### 2 -Implementar um gerador que leia um arquivo e retorne uma lista de tuplas com os dados (o separador de campo do arquivo é virgula), eliminando as linhas vazias. Caso ocorra algum problema, imprima uma mensagem de aviso e encerre o programa. Use o exemplo abaixo como arquivo de entrada: Ex: Entrada: teste.txt 1,vermelho,2,verde,3,amarelo,4,roxo 5,verde,6,preto,7,laranja,8,amarelo 9,preto,10,roxo,11,roxo,12,branco Chamada: gera_tupla(teste.txt) Retorno: [(1,'vermelho'),(2,'verde'),(3,'amarelo'),(4,'roxo'), (5,'verde'),(6,'preto'),(7,'laranja'),(8,'amarelo'), (9,'preto'),(10,'roxo'),(11,'roxo'),(12,'branco')]"
   ]
  },
  {
   "cell_type": "code",
   "execution_count": null,
   "metadata": {},
   "outputs": [],
   "source": [
    "def gera_tupla(nomeArquivo):\n",
    "    tuplas = []\n",
    "    conteudo = \"\"\n",
    "    arquivo = open(nomeArquivo)\n",
    "    linhaArquivo = arquivo.readline()\n",
    "    while linhaArquivo:\n",
    "        linha = linhaArquivo.split(\",\")\n",
    "        linha[len(linha) - 1] = linha[len(linha) - 1].strip()\n",
    "        for i in range(0, len(linha), 2):\n",
    "            tuplas.append((int(linha[i]), linha[i + 1]))\n",
    "        linhaArquivo = arquivo.readline()\n",
    "    arquivo.close()\n",
    "    yield tuplas;\n",
    "\n",
    "saida = gera_tupla(\"arquivo.txt\").send(None)\n",
    "print(saida)"
   ]
  },
  {
   "cell_type": "markdown",
   "metadata": {},
   "source": [
    "### 3 - Implementar dois geradores e rodá-los em paralelo (coroutine) para processar dois arquivos e gerar tuplas. O primeiro é similar ao do exercício 2. O segundo processa outro arquivo, também separado por vírgulas. No final, a lista gerada deve conter tuplas com 3 elementos. Use o exemplo baixo como base: Entrada: teste1.txt 1,vermelho,2,verde,3,amarelo,4,roxo 5,verde,6,preto,7,laranja,8,amarelo 9,preto,10,roxo,11,roxo,12,branco teste2.txt 0,1,0,0 1,1,1,0 1,0,0,1 Chamada: gera_tupla1(teste1.txt), gera_tupla2(teste2.txt) Retorno: [(1,'vermelho',False),(2,'verde',True),(3,'amarelo',False), (4,'roxo',False),(5,'verde',True),(6,'preto',True), (7,'laranja',True),(8,'amarelo',False),(9,'preto',True), (10,'roxo',False),(11,'roxo',False),(12,'branco',True)]"
   ]
  },
  {
   "cell_type": "code",
   "execution_count": null,
   "metadata": {},
   "outputs": [],
   "source": [
    "ef gerar_aquivo1(text):\n",
    "    tuplas = []\n",
    "    conteudo = \"\"\n",
    "    arquivo = open(nomeArquivo)\n",
    "    linhaArquivo = arquivo.readline()\n",
    "    while linhaArquivo:\n",
    "        linha = linhaArquivo.split(\",\")\n",
    "        linha[len(linha) - 1] = linha[len(linha) - 1].strip()\n",
    "        for i in range(0, len(linha), 2):\n",
    "            tuplas.append((int(linha[i]), linha[i + 1]))\n",
    "        linhaArquivo = arquivo.readline()\n",
    "    arquivo.close()\n",
    "    yield tuplas;\n",
    "\n",
    "            \n",
    "def gerar_aquivo2(numbers):\n",
    "    numbers = open(numbers,'r').read().replace('\\n','').split(',')\n",
    "    new_text = []\n",
    "    for i in numbers:\n",
    "        if i == '0':\n",
    "            new_text.append('False')\n",
    "            #yield 'False'\n",
    "        elif i== '1':\n",
    "            new_text.append('True')\n",
    "            #yield 'True'\n",
    "    yield new_text\n",
    "\n",
    "c2 = gerar_aquivo2(\"numeros.txt\")\n",
    "saida = gera_tupla(\"arquivo.txt\").send(None)\n",
    "print(saida,next(c2))\n",
    "# for i, (f, t) in enumerate(zip(gerar_aquivo1('arquivo.txt'), gerar_aquivo2('numeros.txt'))):\n",
    "#     if i == 10:\n",
    "#         break\n",
    "#     print(str(f),',', t)"
   ]
  },
  {
   "cell_type": "markdown",
   "metadata": {},
   "source": [
    "### 4 - Escreva um generator que crie um fluxo infinito de inteiros a partir de um valor inicial dado com passo 5. Ex: gera_inteiros(7) = 12, 17, 22, 27, ..."
   ]
  },
  {
   "cell_type": "code",
   "execution_count": null,
   "metadata": {},
   "outputs": [],
   "source": [
    "recv = 0\n",
    "def gerar_inteiros(num):\n",
    "    recv = num + 5\n",
    "    yield recv\n",
    "    while True:\n",
    "        recv =  recv + 5\n",
    "        yield recv\n",
    "    \n",
    "g = gerar_inteiros(7)\n",
    "\n",
    "for g in g:\n",
    "    print(g)"
   ]
  }
 ],
 "metadata": {
  "kernelspec": {
   "display_name": "Python 3",
   "language": "python",
   "name": "python3"
  },
  "language_info": {
   "codemirror_mode": {
    "name": "ipython",
    "version": 3
   },
   "file_extension": ".py",
   "mimetype": "text/x-python",
   "name": "python",
   "nbconvert_exporter": "python",
   "pygments_lexer": "ipython3",
   "version": "3.7.3"
  }
 },
 "nbformat": 4,
 "nbformat_minor": 2
}
